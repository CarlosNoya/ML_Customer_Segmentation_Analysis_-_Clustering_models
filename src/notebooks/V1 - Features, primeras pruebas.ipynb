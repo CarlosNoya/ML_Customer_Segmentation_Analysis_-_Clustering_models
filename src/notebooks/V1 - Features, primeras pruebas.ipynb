{
 "cells": [
  {
   "cell_type": "code",
   "execution_count": 1,
   "metadata": {},
   "outputs": [],
   "source": [
    "# Dataset: https://www.kaggle.com/datasets/imakash3011/customer-personality-analysis"
   ]
  },
  {
   "cell_type": "markdown",
   "metadata": {},
   "source": [
    "#### INDICE\n",
    "- \n",
    "- \n",
    "- \n",
    "- "
   ]
  },
  {
   "cell_type": "markdown",
   "metadata": {},
   "source": [
    "## 1. Entender el **PROBLEMA DE NEGOCIO** y trasladarlo a un **PROBLEMA TÉCNICO**"
   ]
  },
  {
   "cell_type": "code",
   "execution_count": 2,
   "metadata": {},
   "outputs": [],
   "source": [
    "# Primer problema, la empresa quiere hacer perfiles de sus clientes, para poder clasificarlos y enfocar las campañas de marketing\n",
    "# 1º Problema técnico: categorización - clustering\n",
    "\n",
    "# Segundo problema, como responderá un cliente a una campaña de marketing\n",
    "# 2º Problema técnico: modelo predictivo de clasificación"
   ]
  },
  {
   "cell_type": "markdown",
   "metadata": {},
   "source": [
    "## 2. Decidir el **TIPO DE PROBLEMA** (a predecir)"
   ]
  },
  {
   "cell_type": "code",
   "execution_count": 3,
   "metadata": {},
   "outputs": [],
   "source": [
    "# 1º No supervisado / categorización -> clustering\n",
    "# 2º Supervisado / target 'response'"
   ]
  },
  {
   "cell_type": "markdown",
   "metadata": {},
   "source": [
    "## Importando Librerias"
   ]
  },
  {
   "cell_type": "code",
   "execution_count": 4,
   "metadata": {},
   "outputs": [],
   "source": [
    "import matplotlib.pyplot as plt\n",
    "import numpy as np\n",
    "import pandas as pd\n",
    "import seaborn as sns\n",
    "\n",
    "# Preprocesado\n",
    "from sklearn.preprocessing import LabelEncoder, OneHotEncoder, OrdinalEncoder, StandardScaler\n",
    "from datetime import datetime\n",
    "\n",
    "# Modelado\n",
    "from sklearn.model_selection import train_test_split, cross_val_score, RandomizedSearchCV, GridSearchCV\n",
    "from sklearn.metrics import mean_squared_error, root_mean_squared_error, r2_score, mean_absolute_percentage_error\n",
    "from sklearn.ensemble import RandomForestRegressor \n",
    "from sklearn.linear_model import Lasso, Ridge\n",
    "from catboost import CatBoostRegressor\n",
    "import xgboost as xgb\n",
    "import lightgbm as lgb\n",
    "\n",
    "# PIPES\n",
    "from sklearn.pipeline import Pipeline\n",
    "from sklearn.compose import ColumnTransformer\n",
    "from sklearn.impute import SimpleImputer\n",
    "\n",
    "# Utils\n",
    "import sys\n",
    "import os\n",
    "sys.path.append(os.path.join(os.getcwd(), '../utils'))\n",
    "import bootcampviztools as bt\n",
    "\n",
    "import warnings\n",
    "warnings.filterwarnings('ignore')"
   ]
  },
  {
   "cell_type": "markdown",
   "metadata": {},
   "source": [
    "## 3. Acceder a **DATOS**, **VISUALIZACIÓN** y **EXPLORACIÓN**"
   ]
  },
  {
   "cell_type": "code",
   "execution_count": 5,
   "metadata": {},
   "outputs": [
    {
     "data": {
      "text/html": [
       "<div>\n",
       "<style scoped>\n",
       "    .dataframe tbody tr th:only-of-type {\n",
       "        vertical-align: middle;\n",
       "    }\n",
       "\n",
       "    .dataframe tbody tr th {\n",
       "        vertical-align: top;\n",
       "    }\n",
       "\n",
       "    .dataframe thead th {\n",
       "        text-align: right;\n",
       "    }\n",
       "</style>\n",
       "<table border=\"1\" class=\"dataframe\">\n",
       "  <thead>\n",
       "    <tr style=\"text-align: right;\">\n",
       "      <th></th>\n",
       "      <th>ID</th>\n",
       "      <th>Year_Birth</th>\n",
       "      <th>Education</th>\n",
       "      <th>Marital_Status</th>\n",
       "      <th>Income</th>\n",
       "      <th>Kidhome</th>\n",
       "      <th>Teenhome</th>\n",
       "      <th>Dt_Customer</th>\n",
       "      <th>Recency</th>\n",
       "      <th>MntWines</th>\n",
       "      <th>...</th>\n",
       "      <th>NumWebVisitsMonth</th>\n",
       "      <th>AcceptedCmp3</th>\n",
       "      <th>AcceptedCmp4</th>\n",
       "      <th>AcceptedCmp5</th>\n",
       "      <th>AcceptedCmp1</th>\n",
       "      <th>AcceptedCmp2</th>\n",
       "      <th>Complain</th>\n",
       "      <th>Z_CostContact</th>\n",
       "      <th>Z_Revenue</th>\n",
       "      <th>Response</th>\n",
       "    </tr>\n",
       "  </thead>\n",
       "  <tbody>\n",
       "    <tr>\n",
       "      <th>0</th>\n",
       "      <td>5524</td>\n",
       "      <td>1957</td>\n",
       "      <td>Graduation</td>\n",
       "      <td>Single</td>\n",
       "      <td>58138.0</td>\n",
       "      <td>0</td>\n",
       "      <td>0</td>\n",
       "      <td>04/09/2012</td>\n",
       "      <td>58</td>\n",
       "      <td>635</td>\n",
       "      <td>...</td>\n",
       "      <td>7</td>\n",
       "      <td>0</td>\n",
       "      <td>0</td>\n",
       "      <td>0</td>\n",
       "      <td>0</td>\n",
       "      <td>0</td>\n",
       "      <td>0</td>\n",
       "      <td>3</td>\n",
       "      <td>11</td>\n",
       "      <td>1</td>\n",
       "    </tr>\n",
       "    <tr>\n",
       "      <th>1</th>\n",
       "      <td>2174</td>\n",
       "      <td>1954</td>\n",
       "      <td>Graduation</td>\n",
       "      <td>Single</td>\n",
       "      <td>46344.0</td>\n",
       "      <td>1</td>\n",
       "      <td>1</td>\n",
       "      <td>08/03/2014</td>\n",
       "      <td>38</td>\n",
       "      <td>11</td>\n",
       "      <td>...</td>\n",
       "      <td>5</td>\n",
       "      <td>0</td>\n",
       "      <td>0</td>\n",
       "      <td>0</td>\n",
       "      <td>0</td>\n",
       "      <td>0</td>\n",
       "      <td>0</td>\n",
       "      <td>3</td>\n",
       "      <td>11</td>\n",
       "      <td>0</td>\n",
       "    </tr>\n",
       "    <tr>\n",
       "      <th>2</th>\n",
       "      <td>4141</td>\n",
       "      <td>1965</td>\n",
       "      <td>Graduation</td>\n",
       "      <td>Together</td>\n",
       "      <td>71613.0</td>\n",
       "      <td>0</td>\n",
       "      <td>0</td>\n",
       "      <td>21/08/2013</td>\n",
       "      <td>26</td>\n",
       "      <td>426</td>\n",
       "      <td>...</td>\n",
       "      <td>4</td>\n",
       "      <td>0</td>\n",
       "      <td>0</td>\n",
       "      <td>0</td>\n",
       "      <td>0</td>\n",
       "      <td>0</td>\n",
       "      <td>0</td>\n",
       "      <td>3</td>\n",
       "      <td>11</td>\n",
       "      <td>0</td>\n",
       "    </tr>\n",
       "  </tbody>\n",
       "</table>\n",
       "<p>3 rows × 29 columns</p>\n",
       "</div>"
      ],
      "text/plain": [
       "     ID  Year_Birth   Education Marital_Status   Income  Kidhome  Teenhome  \\\n",
       "0  5524        1957  Graduation         Single  58138.0        0         0   \n",
       "1  2174        1954  Graduation         Single  46344.0        1         1   \n",
       "2  4141        1965  Graduation       Together  71613.0        0         0   \n",
       "\n",
       "  Dt_Customer  Recency  MntWines  ...  NumWebVisitsMonth  AcceptedCmp3  \\\n",
       "0  04/09/2012       58       635  ...                  7             0   \n",
       "1  08/03/2014       38        11  ...                  5             0   \n",
       "2  21/08/2013       26       426  ...                  4             0   \n",
       "\n",
       "   AcceptedCmp4  AcceptedCmp5  AcceptedCmp1  AcceptedCmp2  Complain  \\\n",
       "0             0             0             0             0         0   \n",
       "1             0             0             0             0         0   \n",
       "2             0             0             0             0         0   \n",
       "\n",
       "   Z_CostContact  Z_Revenue  Response  \n",
       "0              3         11         1  \n",
       "1              3         11         0  \n",
       "2              3         11         0  \n",
       "\n",
       "[3 rows x 29 columns]"
      ]
     },
     "execution_count": 5,
     "metadata": {},
     "output_type": "execute_result"
    }
   ],
   "source": [
    "# Abro dataset\n",
    "df = pd.read_csv(\"../data_sample/marketing_campaign.csv\", sep = \";\")\n",
    "df.head(3)"
   ]
  },
  {
   "cell_type": "code",
   "execution_count": 6,
   "metadata": {},
   "outputs": [
    {
     "name": "stdout",
     "output_type": "stream",
     "text": [
      "<class 'pandas.core.frame.DataFrame'>\n",
      "RangeIndex: 2240 entries, 0 to 2239\n",
      "Data columns (total 29 columns):\n",
      " #   Column               Non-Null Count  Dtype  \n",
      "---  ------               --------------  -----  \n",
      " 0   ID                   2240 non-null   int64  \n",
      " 1   Year_Birth           2240 non-null   int64  \n",
      " 2   Education            2240 non-null   object \n",
      " 3   Marital_Status       2240 non-null   object \n",
      " 4   Income               2216 non-null   float64\n",
      " 5   Kidhome              2240 non-null   int64  \n",
      " 6   Teenhome             2240 non-null   int64  \n",
      " 7   Dt_Customer          2240 non-null   object \n",
      " 8   Recency              2240 non-null   int64  \n",
      " 9   MntWines             2240 non-null   int64  \n",
      " 10  MntFruits            2240 non-null   int64  \n",
      " 11  MntMeatProducts      2240 non-null   int64  \n",
      " 12  MntFishProducts      2240 non-null   int64  \n",
      " 13  MntSweetProducts     2240 non-null   int64  \n",
      " 14  MntGoldProds         2240 non-null   int64  \n",
      " 15  NumDealsPurchases    2240 non-null   int64  \n",
      " 16  NumWebPurchases      2240 non-null   int64  \n",
      " 17  NumCatalogPurchases  2240 non-null   int64  \n",
      " 18  NumStorePurchases    2240 non-null   int64  \n",
      " 19  NumWebVisitsMonth    2240 non-null   int64  \n",
      " 20  AcceptedCmp3         2240 non-null   int64  \n",
      " 21  AcceptedCmp4         2240 non-null   int64  \n",
      " 22  AcceptedCmp5         2240 non-null   int64  \n",
      " 23  AcceptedCmp1         2240 non-null   int64  \n",
      " 24  AcceptedCmp2         2240 non-null   int64  \n",
      " 25  Complain             2240 non-null   int64  \n",
      " 26  Z_CostContact        2240 non-null   int64  \n",
      " 27  Z_Revenue            2240 non-null   int64  \n",
      " 28  Response             2240 non-null   int64  \n",
      "dtypes: float64(1), int64(25), object(3)\n",
      "memory usage: 507.6+ KB\n"
     ]
    }
   ],
   "source": [
    "# Primer vistazo\n",
    "df.info(show_counts=True)"
   ]
  },
  {
   "cell_type": "code",
   "execution_count": 7,
   "metadata": {},
   "outputs": [
    {
     "name": "stdout",
     "output_type": "stream",
     "text": [
      "Umbral de 'CARD_valores_unicos' para considerarla 'Categórica':  10\n",
      "Umbral de 'CARD_%' para considerarla 'Numérica Continua':  30.0\n"
     ]
    },
    {
     "data": {
      "text/html": [
       "<div>\n",
       "<style scoped>\n",
       "    .dataframe tbody tr th:only-of-type {\n",
       "        vertical-align: middle;\n",
       "    }\n",
       "\n",
       "    .dataframe tbody tr th {\n",
       "        vertical-align: top;\n",
       "    }\n",
       "\n",
       "    .dataframe thead th {\n",
       "        text-align: right;\n",
       "    }\n",
       "</style>\n",
       "<table border=\"1\" class=\"dataframe\">\n",
       "  <thead>\n",
       "    <tr style=\"text-align: right;\">\n",
       "      <th></th>\n",
       "      <th>Variable</th>\n",
       "      <th>Missings_%</th>\n",
       "      <th>Dtype_real</th>\n",
       "      <th>CARD_valores_unicos</th>\n",
       "      <th>CARD_%</th>\n",
       "      <th>Dtype_sugerido</th>\n",
       "    </tr>\n",
       "  </thead>\n",
       "  <tbody>\n",
       "    <tr>\n",
       "      <th>0</th>\n",
       "      <td>ID</td>\n",
       "      <td>0.00</td>\n",
       "      <td>int64</td>\n",
       "      <td>2240</td>\n",
       "      <td>100.00</td>\n",
       "      <td>Numérica Continua</td>\n",
       "    </tr>\n",
       "    <tr>\n",
       "      <th>1</th>\n",
       "      <td>Year_Birth</td>\n",
       "      <td>0.00</td>\n",
       "      <td>int64</td>\n",
       "      <td>59</td>\n",
       "      <td>2.63</td>\n",
       "      <td>Numérica Discreta</td>\n",
       "    </tr>\n",
       "    <tr>\n",
       "      <th>2</th>\n",
       "      <td>Education</td>\n",
       "      <td>0.00</td>\n",
       "      <td>object</td>\n",
       "      <td>5</td>\n",
       "      <td>0.22</td>\n",
       "      <td>Categórica</td>\n",
       "    </tr>\n",
       "    <tr>\n",
       "      <th>3</th>\n",
       "      <td>Marital_Status</td>\n",
       "      <td>0.00</td>\n",
       "      <td>object</td>\n",
       "      <td>8</td>\n",
       "      <td>0.36</td>\n",
       "      <td>Categórica</td>\n",
       "    </tr>\n",
       "    <tr>\n",
       "      <th>4</th>\n",
       "      <td>Income</td>\n",
       "      <td>1.07</td>\n",
       "      <td>float64</td>\n",
       "      <td>1974</td>\n",
       "      <td>88.12</td>\n",
       "      <td>Numérica Continua</td>\n",
       "    </tr>\n",
       "    <tr>\n",
       "      <th>5</th>\n",
       "      <td>Kidhome</td>\n",
       "      <td>0.00</td>\n",
       "      <td>int64</td>\n",
       "      <td>3</td>\n",
       "      <td>0.13</td>\n",
       "      <td>Categórica</td>\n",
       "    </tr>\n",
       "    <tr>\n",
       "      <th>6</th>\n",
       "      <td>Teenhome</td>\n",
       "      <td>0.00</td>\n",
       "      <td>int64</td>\n",
       "      <td>3</td>\n",
       "      <td>0.13</td>\n",
       "      <td>Categórica</td>\n",
       "    </tr>\n",
       "    <tr>\n",
       "      <th>7</th>\n",
       "      <td>Dt_Customer</td>\n",
       "      <td>0.00</td>\n",
       "      <td>object</td>\n",
       "      <td>663</td>\n",
       "      <td>29.60</td>\n",
       "      <td>Numérica Discreta</td>\n",
       "    </tr>\n",
       "    <tr>\n",
       "      <th>8</th>\n",
       "      <td>Recency</td>\n",
       "      <td>0.00</td>\n",
       "      <td>int64</td>\n",
       "      <td>100</td>\n",
       "      <td>4.46</td>\n",
       "      <td>Numérica Discreta</td>\n",
       "    </tr>\n",
       "    <tr>\n",
       "      <th>9</th>\n",
       "      <td>MntWines</td>\n",
       "      <td>0.00</td>\n",
       "      <td>int64</td>\n",
       "      <td>776</td>\n",
       "      <td>34.64</td>\n",
       "      <td>Numérica Continua</td>\n",
       "    </tr>\n",
       "    <tr>\n",
       "      <th>10</th>\n",
       "      <td>MntFruits</td>\n",
       "      <td>0.00</td>\n",
       "      <td>int64</td>\n",
       "      <td>158</td>\n",
       "      <td>7.05</td>\n",
       "      <td>Numérica Discreta</td>\n",
       "    </tr>\n",
       "    <tr>\n",
       "      <th>11</th>\n",
       "      <td>MntMeatProducts</td>\n",
       "      <td>0.00</td>\n",
       "      <td>int64</td>\n",
       "      <td>558</td>\n",
       "      <td>24.91</td>\n",
       "      <td>Numérica Discreta</td>\n",
       "    </tr>\n",
       "    <tr>\n",
       "      <th>12</th>\n",
       "      <td>MntFishProducts</td>\n",
       "      <td>0.00</td>\n",
       "      <td>int64</td>\n",
       "      <td>182</td>\n",
       "      <td>8.12</td>\n",
       "      <td>Numérica Discreta</td>\n",
       "    </tr>\n",
       "    <tr>\n",
       "      <th>13</th>\n",
       "      <td>MntSweetProducts</td>\n",
       "      <td>0.00</td>\n",
       "      <td>int64</td>\n",
       "      <td>177</td>\n",
       "      <td>7.90</td>\n",
       "      <td>Numérica Discreta</td>\n",
       "    </tr>\n",
       "    <tr>\n",
       "      <th>14</th>\n",
       "      <td>MntGoldProds</td>\n",
       "      <td>0.00</td>\n",
       "      <td>int64</td>\n",
       "      <td>213</td>\n",
       "      <td>9.51</td>\n",
       "      <td>Numérica Discreta</td>\n",
       "    </tr>\n",
       "    <tr>\n",
       "      <th>15</th>\n",
       "      <td>NumDealsPurchases</td>\n",
       "      <td>0.00</td>\n",
       "      <td>int64</td>\n",
       "      <td>15</td>\n",
       "      <td>0.67</td>\n",
       "      <td>Numérica Discreta</td>\n",
       "    </tr>\n",
       "    <tr>\n",
       "      <th>16</th>\n",
       "      <td>NumWebPurchases</td>\n",
       "      <td>0.00</td>\n",
       "      <td>int64</td>\n",
       "      <td>15</td>\n",
       "      <td>0.67</td>\n",
       "      <td>Numérica Discreta</td>\n",
       "    </tr>\n",
       "    <tr>\n",
       "      <th>17</th>\n",
       "      <td>NumCatalogPurchases</td>\n",
       "      <td>0.00</td>\n",
       "      <td>int64</td>\n",
       "      <td>14</td>\n",
       "      <td>0.62</td>\n",
       "      <td>Numérica Discreta</td>\n",
       "    </tr>\n",
       "    <tr>\n",
       "      <th>18</th>\n",
       "      <td>NumStorePurchases</td>\n",
       "      <td>0.00</td>\n",
       "      <td>int64</td>\n",
       "      <td>14</td>\n",
       "      <td>0.62</td>\n",
       "      <td>Numérica Discreta</td>\n",
       "    </tr>\n",
       "    <tr>\n",
       "      <th>19</th>\n",
       "      <td>NumWebVisitsMonth</td>\n",
       "      <td>0.00</td>\n",
       "      <td>int64</td>\n",
       "      <td>16</td>\n",
       "      <td>0.71</td>\n",
       "      <td>Numérica Discreta</td>\n",
       "    </tr>\n",
       "    <tr>\n",
       "      <th>20</th>\n",
       "      <td>AcceptedCmp3</td>\n",
       "      <td>0.00</td>\n",
       "      <td>int64</td>\n",
       "      <td>2</td>\n",
       "      <td>0.09</td>\n",
       "      <td>Binaria</td>\n",
       "    </tr>\n",
       "    <tr>\n",
       "      <th>21</th>\n",
       "      <td>AcceptedCmp4</td>\n",
       "      <td>0.00</td>\n",
       "      <td>int64</td>\n",
       "      <td>2</td>\n",
       "      <td>0.09</td>\n",
       "      <td>Binaria</td>\n",
       "    </tr>\n",
       "    <tr>\n",
       "      <th>22</th>\n",
       "      <td>AcceptedCmp5</td>\n",
       "      <td>0.00</td>\n",
       "      <td>int64</td>\n",
       "      <td>2</td>\n",
       "      <td>0.09</td>\n",
       "      <td>Binaria</td>\n",
       "    </tr>\n",
       "    <tr>\n",
       "      <th>23</th>\n",
       "      <td>AcceptedCmp1</td>\n",
       "      <td>0.00</td>\n",
       "      <td>int64</td>\n",
       "      <td>2</td>\n",
       "      <td>0.09</td>\n",
       "      <td>Binaria</td>\n",
       "    </tr>\n",
       "    <tr>\n",
       "      <th>24</th>\n",
       "      <td>AcceptedCmp2</td>\n",
       "      <td>0.00</td>\n",
       "      <td>int64</td>\n",
       "      <td>2</td>\n",
       "      <td>0.09</td>\n",
       "      <td>Binaria</td>\n",
       "    </tr>\n",
       "    <tr>\n",
       "      <th>25</th>\n",
       "      <td>Complain</td>\n",
       "      <td>0.00</td>\n",
       "      <td>int64</td>\n",
       "      <td>2</td>\n",
       "      <td>0.09</td>\n",
       "      <td>Binaria</td>\n",
       "    </tr>\n",
       "    <tr>\n",
       "      <th>26</th>\n",
       "      <td>Z_CostContact</td>\n",
       "      <td>0.00</td>\n",
       "      <td>int64</td>\n",
       "      <td>1</td>\n",
       "      <td>0.04</td>\n",
       "      <td>Categórica</td>\n",
       "    </tr>\n",
       "    <tr>\n",
       "      <th>27</th>\n",
       "      <td>Z_Revenue</td>\n",
       "      <td>0.00</td>\n",
       "      <td>int64</td>\n",
       "      <td>1</td>\n",
       "      <td>0.04</td>\n",
       "      <td>Categórica</td>\n",
       "    </tr>\n",
       "    <tr>\n",
       "      <th>28</th>\n",
       "      <td>Response</td>\n",
       "      <td>0.00</td>\n",
       "      <td>int64</td>\n",
       "      <td>2</td>\n",
       "      <td>0.09</td>\n",
       "      <td>Binaria</td>\n",
       "    </tr>\n",
       "  </tbody>\n",
       "</table>\n",
       "</div>"
      ],
      "text/plain": [
       "               Variable  Missings_% Dtype_real  CARD_valores_unicos  CARD_%  \\\n",
       "0                    ID        0.00      int64                 2240  100.00   \n",
       "1            Year_Birth        0.00      int64                   59    2.63   \n",
       "2             Education        0.00     object                    5    0.22   \n",
       "3        Marital_Status        0.00     object                    8    0.36   \n",
       "4                Income        1.07    float64                 1974   88.12   \n",
       "5               Kidhome        0.00      int64                    3    0.13   \n",
       "6              Teenhome        0.00      int64                    3    0.13   \n",
       "7           Dt_Customer        0.00     object                  663   29.60   \n",
       "8               Recency        0.00      int64                  100    4.46   \n",
       "9              MntWines        0.00      int64                  776   34.64   \n",
       "10            MntFruits        0.00      int64                  158    7.05   \n",
       "11      MntMeatProducts        0.00      int64                  558   24.91   \n",
       "12      MntFishProducts        0.00      int64                  182    8.12   \n",
       "13     MntSweetProducts        0.00      int64                  177    7.90   \n",
       "14         MntGoldProds        0.00      int64                  213    9.51   \n",
       "15    NumDealsPurchases        0.00      int64                   15    0.67   \n",
       "16      NumWebPurchases        0.00      int64                   15    0.67   \n",
       "17  NumCatalogPurchases        0.00      int64                   14    0.62   \n",
       "18    NumStorePurchases        0.00      int64                   14    0.62   \n",
       "19    NumWebVisitsMonth        0.00      int64                   16    0.71   \n",
       "20         AcceptedCmp3        0.00      int64                    2    0.09   \n",
       "21         AcceptedCmp4        0.00      int64                    2    0.09   \n",
       "22         AcceptedCmp5        0.00      int64                    2    0.09   \n",
       "23         AcceptedCmp1        0.00      int64                    2    0.09   \n",
       "24         AcceptedCmp2        0.00      int64                    2    0.09   \n",
       "25             Complain        0.00      int64                    2    0.09   \n",
       "26        Z_CostContact        0.00      int64                    1    0.04   \n",
       "27            Z_Revenue        0.00      int64                    1    0.04   \n",
       "28             Response        0.00      int64                    2    0.09   \n",
       "\n",
       "       Dtype_sugerido  \n",
       "0   Numérica Continua  \n",
       "1   Numérica Discreta  \n",
       "2          Categórica  \n",
       "3          Categórica  \n",
       "4   Numérica Continua  \n",
       "5          Categórica  \n",
       "6          Categórica  \n",
       "7   Numérica Discreta  \n",
       "8   Numérica Discreta  \n",
       "9   Numérica Continua  \n",
       "10  Numérica Discreta  \n",
       "11  Numérica Discreta  \n",
       "12  Numérica Discreta  \n",
       "13  Numérica Discreta  \n",
       "14  Numérica Discreta  \n",
       "15  Numérica Discreta  \n",
       "16  Numérica Discreta  \n",
       "17  Numérica Discreta  \n",
       "18  Numérica Discreta  \n",
       "19  Numérica Discreta  \n",
       "20            Binaria  \n",
       "21            Binaria  \n",
       "22            Binaria  \n",
       "23            Binaria  \n",
       "24            Binaria  \n",
       "25            Binaria  \n",
       "26         Categórica  \n",
       "27         Categórica  \n",
       "28            Binaria  "
      ]
     },
     "execution_count": 7,
     "metadata": {},
     "output_type": "execute_result"
    }
   ],
   "source": [
    "bt.tipifica_variable_plus(df)"
   ]
  },
  {
   "cell_type": "markdown",
   "metadata": {},
   "source": [
    "| Columna/Variable    | Descripción                         | Tipo de variable  |  Nota                                        |\n",
    "|---------------------|-------------------------------------|-------------------|----------------------------------------------|\n",
    "| ID                  | Identificador único del cliente     |  Numérica         |  Poco util. Solo para identificar            |\n",
    "| Year_Birth          | Año de nacimiento                   |  Numérica         |  Obtener edad (años)                         |\n",
    "| Education           | Nivel educativo                     |  Categórica       |  Consultar equivalencias                     |\n",
    "| Marital_Status      | Estado civil                        |  Categórica       |  Para hipotesis derivadas                    |\n",
    "| Income              | Ingresos anuales                    |  Numérica         |  Tiene valores nulos ($ anual seguramente)   |\n",
    "| Kidhome             | Número de niños (0-12) en el hogar  |  Numérica         |  Interesante para patrones de gastos         |\n",
    "| Teenhome            | Número de adolescentes (13-19)      |  Numérica         |  Interesante para patrones de gastos         |\n",
    "| Dt_Customer         | Fecha en la que se unió el cliente  |  Fecha            |  Mide la antiguedad                          |\n",
    "| Recency             | Días desde la última compra         |  Numérica         |  Esencial para evaluar retención de clientes |\n",
    "| MntWines            | Gasto en ultimos 2 años, en vinos   |  Numérica         |  Info directa sobre habito de compra ($)     |\n",
    "| MntFruits           | Idem, en frutas                     |  Numérica         |  Info directa sobre habito de compra ($)     |\n",
    "| MntMeatProducts     | Idem, en productos cárnicos         |  Numérica         |  Info directa sobre habito de compra ($)     |\n",
    "| MntFishProducts     | Idem, en productos de pescado       |  Numérica         |  Info directa sobre habito de compra ($)     |\n",
    "| MntSweetProducts    | Idem en dulces                      |  Numérica         |  Info directa sobre habito de compra ($)     |\n",
    "| MntGoldProds        | Idem en productos de marca          |  Numérica         |  Info directa sobre habito de compra ($)     |\n",
    "| NumDealsPurchases   | Compras con descuento               |  Numérica         |  Respuesta a los cambios de precio           |\n",
    "| NumWebPurchases     | Compras a través de la web          |  Numérica         |  Interesante como info sobre canal de venta  |\n",
    "| NumCatalogPurchases | Compras a través de catálogo        |  Numérica         |  Interesante como info sobre canal de venta  |\n",
    "| NumStorePurchases   | Compras en tienda física            |  Numérica         |  Interesante como info sobre canal de venta  |\n",
    "| NumWebVisitsMonth   | Visitas web en el último mes        |  Numérica         |  Interesante como info sobre canal de venta  |\n",
    "| AcceptedCmp3        | Aceptó campaña 3                    |  Binaria          |  Mide respuesta a campañas de Marketing      |\n",
    "| AcceptedCmp4        | Aceptó campaña 4                    |  Binaria          |  Mide respuesta a campañas de Marketing      |    \n",
    "| AcceptedCmp5        | Aceptó campaña 5                    |  Binaria          |  Mide respuesta a campañas de Marketing      |\n",
    "| AcceptedCmp1        | Aceptó campaña 1                    |  Binaria          |  Mide respuesta a campañas de Marketing      |\n",
    "| AcceptedCmp2        | Aceptó campaña 2                    |  Binaria          |  Mide respuesta a campañas de Marketing      | \n",
    "| Complain            | Presentó alguna queja               |  Binaria          |  Mide respuesta a campañas de Marketing      |\n",
    "| Z_CostContact       | Desconocido                         |                   |  ¿Qué representa?                            |\n",
    "| Z_Revenue           | Desconocido                         |                   |  ¿Qué representa?                            |\n",
    "| Response            | Respondió a la última campaña       |  Binaria          |  Mide interes reciente                       |"
   ]
  },
  {
   "cell_type": "code",
   "execution_count": 8,
   "metadata": {},
   "outputs": [
    {
     "name": "stdout",
     "output_type": "stream",
     "text": [
      "Excluidas:  ['Z_CostContact', 'Z_Revenue']\n"
     ]
    }
   ],
   "source": [
    "# Lista de excluidas\n",
    "exclude = [] \n",
    "\n",
    "# Funcion para agregar y visualizar la lista\n",
    "def add_to_exclude(*name_cols):\n",
    "    for name_col in name_cols:\n",
    "        if name_col not in exclude:\n",
    "            exclude.append(name_col)\n",
    "    print(\"Excluidas: \", exclude)\n",
    "\n",
    "add_to_exclude(\"Z_CostContact\", \"Z_Revenue\")"
   ]
  },
  {
   "cell_type": "markdown",
   "metadata": {},
   "source": [
    "## 4. **Data cleaning**"
   ]
  },
  {
   "cell_type": "markdown",
   "metadata": {},
   "source": [
    "- Limpieza de datos, tratamiento de valores nulos y outliers, creación de nuevas columnas, tipo de columna, renombre y orden..."
   ]
  },
  {
   "cell_type": "markdown",
   "metadata": {},
   "source": [
    "### 4.1. Features analisys"
   ]
  },
  {
   "cell_type": "markdown",
   "metadata": {},
   "source": [
    "#### A) *people* features"
   ]
  },
  {
   "cell_type": "markdown",
   "metadata": {},
   "source": [
    "##### - 'ID'"
   ]
  },
  {
   "cell_type": "markdown",
   "metadata": {},
   "source": [
    "- Cardinalidad del 100% así que la añado a la lista de exluidas para ser borrada"
   ]
  },
  {
   "cell_type": "code",
   "execution_count": 38,
   "metadata": {},
   "outputs": [
    {
     "name": "stdout",
     "output_type": "stream",
     "text": [
      "Excluidas:  ['Z_CostContact', 'Z_Revenue', 'ID', 'Year_Birth', 'Kidhome', 'Teenhome']\n"
     ]
    }
   ],
   "source": [
    "add_to_exclude(\"ID\")"
   ]
  },
  {
   "cell_type": "markdown",
   "metadata": {},
   "source": [
    "##### - 'Year_Birth' ('Age')"
   ]
  },
  {
   "cell_type": "markdown",
   "metadata": {},
   "source": [
    "- En vez de hablar de año de nacimiento, tiene mas sentido hablar de edad, por ello se crea una columna nueva a partir de la anterior\n",
    "- Se investigan outlier y su tratamiento"
   ]
  },
  {
   "cell_type": "code",
   "execution_count": 39,
   "metadata": {},
   "outputs": [
    {
     "name": "stdout",
     "output_type": "stream",
     "text": [
      "Valores columna 'Year_Birth': \n",
      " [1957 1954 1965 1984 1981 1967 1971 1985 1974 1950 1983 1976 1959 1952\n",
      " 1987 1946 1980 1949 1982 1979 1951 1969 1986 1989 1963 1970 1973 1943\n",
      " 1975 1996 1968 1964 1977 1978 1955 1966 1988 1948 1958 1972 1960 1945\n",
      " 1991 1962 1953 1961 1956 1992 1900 1893 1990 1947 1899 1993 1994 1941\n",
      " 1944 1995 1940] \n",
      "\n",
      "Valores columna 'Age': \n",
      " [ 68  71  60  41  44  58  54  40  51  75  42  49  66  73  38  79  45  76\n",
      "  43  46  74  56  39  36  62  55  52  82  50  29  57  61  48  47  70  59\n",
      "  37  77  67  53  65  80  34  63  72  64  69  33 125 132  35  78 126  32\n",
      "  31  84  81  30  85] \n",
      "\n"
     ]
    }
   ],
   "source": [
    "# Valores de la columna 'Year_Birth'\n",
    "print(\"Valores columna 'Year_Birth': \\n\", df.Year_Birth.unique(), \"\\n\")\n",
    "\n",
    "# nueva Columna edad\n",
    "df[\"Age\"] = datetime.now().year - df[\"Year_Birth\"] # datetime.now().year = Año actual [2025]\n",
    "\n",
    "# Comprobar que todas las edades son correctas\n",
    "print(\"Valores columna 'Age': \\n\", df.Age.unique(), \"\\n\")"
   ]
  },
  {
   "cell_type": "code",
   "execution_count": 40,
   "metadata": {},
   "outputs": [
    {
     "data": {
      "image/png": "[encoded data removed]",
      "text/plain": [
       "<Figure size 1200x600 with 1 Axes>"
      ]
     },
     "metadata": {},
     "output_type": "display_data"
    }
   ],
   "source": [
    "plt.figure(figsize=(12, 6))\n",
    "df['Age'].hist(bins=100, grid=False, edgecolor=\"black\")\n",
    "\n",
    "# Identificar el percentil 99 para marcar los outliers\n",
    "outlier_age_max = df[\"Age\"].quantile(0.9999)\n",
    "\n",
    "# Agregar flecha para señalar los outliers\n",
    "plt.annotate(\n",
    "    \"Outliers\", \n",
    "    xy=(outlier_age_max-3, 5),  # Coordenadas (x, y)\n",
    "    xytext=(outlier_age_max-10, 30),  # Posición del texto\n",
    "    arrowprops=dict(facecolor=\"red\", arrowstyle=\"->\", lw=2)\n",
    ")\n",
    "\n",
    "plt.xlabel(\"Age\")\n",
    "plt.ylabel(\"Frequency\")\n",
    "plt.title(\"Age Distribution with Outliers\")\n",
    "plt.show()"
   ]
  },
  {
   "cell_type": "code",
   "execution_count": 41,
   "metadata": {},
   "outputs": [
    {
     "name": "stdout",
     "output_type": "stream",
     "text": [
      "Age\n",
      "125    1\n",
      "132    1\n",
      "126    1\n",
      "Name: count, dtype: int64\n"
     ]
    },
    {
     "data": {
      "text/html": [
       "<div>\n",
       "<style scoped>\n",
       "    .dataframe tbody tr th:only-of-type {\n",
       "        vertical-align: middle;\n",
       "    }\n",
       "\n",
       "    .dataframe tbody tr th {\n",
       "        vertical-align: top;\n",
       "    }\n",
       "\n",
       "    .dataframe thead th {\n",
       "        text-align: right;\n",
       "    }\n",
       "</style>\n",
       "<table border=\"1\" class=\"dataframe\">\n",
       "  <thead>\n",
       "    <tr style=\"text-align: right;\">\n",
       "      <th></th>\n",
       "      <th>ID</th>\n",
       "      <th>Year_Birth</th>\n",
       "      <th>Education</th>\n",
       "      <th>Marital_Status</th>\n",
       "      <th>Income</th>\n",
       "      <th>Kidhome</th>\n",
       "      <th>Teenhome</th>\n",
       "      <th>Dt_Customer</th>\n",
       "      <th>Recency</th>\n",
       "      <th>MntWines</th>\n",
       "      <th>...</th>\n",
       "      <th>AcceptedCmp5</th>\n",
       "      <th>AcceptedCmp1</th>\n",
       "      <th>AcceptedCmp2</th>\n",
       "      <th>Complain</th>\n",
       "      <th>Z_CostContact</th>\n",
       "      <th>Z_Revenue</th>\n",
       "      <th>Response</th>\n",
       "      <th>Age</th>\n",
       "      <th>Children</th>\n",
       "      <th>Family_Size</th>\n",
       "    </tr>\n",
       "  </thead>\n",
       "  <tbody>\n",
       "    <tr>\n",
       "      <th>192</th>\n",
       "      <td>7829</td>\n",
       "      <td>1900</td>\n",
       "      <td>Undergraduate</td>\n",
       "      <td>Single</td>\n",
       "      <td>36640.0</td>\n",
       "      <td>1</td>\n",
       "      <td>0</td>\n",
       "      <td>2013-09-26</td>\n",
       "      <td>99</td>\n",
       "      <td>15</td>\n",
       "      <td>...</td>\n",
       "      <td>0</td>\n",
       "      <td>0</td>\n",
       "      <td>0</td>\n",
       "      <td>1</td>\n",
       "      <td>3</td>\n",
       "      <td>11</td>\n",
       "      <td>0</td>\n",
       "      <td>125</td>\n",
       "      <td>1</td>\n",
       "      <td>2</td>\n",
       "    </tr>\n",
       "    <tr>\n",
       "      <th>239</th>\n",
       "      <td>11004</td>\n",
       "      <td>1893</td>\n",
       "      <td>Undergraduate</td>\n",
       "      <td>Single</td>\n",
       "      <td>60182.0</td>\n",
       "      <td>0</td>\n",
       "      <td>1</td>\n",
       "      <td>2014-05-17</td>\n",
       "      <td>23</td>\n",
       "      <td>8</td>\n",
       "      <td>...</td>\n",
       "      <td>0</td>\n",
       "      <td>0</td>\n",
       "      <td>0</td>\n",
       "      <td>0</td>\n",
       "      <td>3</td>\n",
       "      <td>11</td>\n",
       "      <td>0</td>\n",
       "      <td>132</td>\n",
       "      <td>1</td>\n",
       "      <td>2</td>\n",
       "    </tr>\n",
       "    <tr>\n",
       "      <th>339</th>\n",
       "      <td>1150</td>\n",
       "      <td>1899</td>\n",
       "      <td>Postgraduate</td>\n",
       "      <td>Couple</td>\n",
       "      <td>83532.0</td>\n",
       "      <td>0</td>\n",
       "      <td>0</td>\n",
       "      <td>2013-09-26</td>\n",
       "      <td>36</td>\n",
       "      <td>755</td>\n",
       "      <td>...</td>\n",
       "      <td>1</td>\n",
       "      <td>0</td>\n",
       "      <td>0</td>\n",
       "      <td>0</td>\n",
       "      <td>3</td>\n",
       "      <td>11</td>\n",
       "      <td>0</td>\n",
       "      <td>126</td>\n",
       "      <td>0</td>\n",
       "      <td>1</td>\n",
       "    </tr>\n",
       "  </tbody>\n",
       "</table>\n",
       "<p>3 rows × 32 columns</p>\n",
       "</div>"
      ],
      "text/plain": [
       "        ID  Year_Birth      Education Marital_Status   Income  Kidhome  \\\n",
       "192   7829        1900  Undergraduate         Single  36640.0        1   \n",
       "239  11004        1893  Undergraduate         Single  60182.0        0   \n",
       "339   1150        1899   Postgraduate         Couple  83532.0        0   \n",
       "\n",
       "     Teenhome Dt_Customer  Recency  MntWines  ...  AcceptedCmp5  AcceptedCmp1  \\\n",
       "192         0  2013-09-26       99        15  ...             0             0   \n",
       "239         1  2014-05-17       23         8  ...             0             0   \n",
       "339         0  2013-09-26       36       755  ...             1             0   \n",
       "\n",
       "     AcceptedCmp2  Complain  Z_CostContact  Z_Revenue  Response  Age  \\\n",
       "192             0         1              3         11         0  125   \n",
       "239             0         0              3         11         0  132   \n",
       "339             0         0              3         11         0  126   \n",
       "\n",
       "     Children  Family_Size  \n",
       "192         1            2  \n",
       "239         1            2  \n",
       "339         0            1  \n",
       "\n",
       "[3 rows x 32 columns]"
      ]
     },
     "execution_count": 41,
     "metadata": {},
     "output_type": "execute_result"
    }
   ],
   "source": [
    "# Num de outliers o edades sin sentido\n",
    "outliers_age = df[df[\"Age\"] > 85]\n",
    "print(outliers_age[\"Age\"].value_counts())\n",
    "df[df[\"Age\"] > 85]"
   ]
  },
  {
   "cell_type": "markdown",
   "metadata": {},
   "source": [
    "- Le imputaré la mediana (que difiere poco de la media)"
   ]
  },
  {
   "cell_type": "code",
   "execution_count": 42,
   "metadata": {},
   "outputs": [
    {
     "name": "stdout",
     "output_type": "stream",
     "text": [
      "count    2236.000000\n",
      "mean       56.203488\n",
      "std        11.980604\n",
      "min        29.000000\n",
      "25%        48.000000\n",
      "50%        55.000000\n",
      "75%        66.000000\n",
      "max       132.000000\n",
      "Name: Age, dtype: float64\n"
     ]
    }
   ],
   "source": [
    "print(df.Age.describe())"
   ]
  },
  {
   "cell_type": "code",
   "execution_count": 43,
   "metadata": {},
   "outputs": [
    {
     "data": {
      "image/png": "[encoded data removed]",
      "text/plain": [
       "<Figure size 1200x600 with 1 Axes>"
      ]
     },
     "metadata": {},
     "output_type": "display_data"
    }
   ],
   "source": [
    "# Imputo con la mediana\n",
    "median_age = df[\"Age\"].median()\n",
    "df.loc[df[\"Age\"] > 85, \"Age\"] = median_age\n",
    "\n",
    "# Representacion\n",
    "plt.figure(figsize=(12, 6))\n",
    "df['Age'].hist(bins=100, grid=False, edgecolor=\"black\")\n",
    "plt.xlabel(\"Age\")\n",
    "plt.ylabel(\"Frequency\")\n",
    "plt.title(\"Age Distribution\")\n",
    "plt.show()"
   ]
  },
  {
   "cell_type": "code",
   "execution_count": 44,
   "metadata": {},
   "outputs": [
    {
     "name": "stdout",
     "output_type": "stream",
     "text": [
      "Excluidas:  ['Z_CostContact', 'Z_Revenue', 'ID', 'Year_Birth', 'Kidhome', 'Teenhome']\n"
     ]
    }
   ],
   "source": [
    "add_to_exclude(\"Year_Birth\")"
   ]
  },
  {
   "cell_type": "markdown",
   "metadata": {},
   "source": [
    "##### - 'Education'"
   ]
  },
  {
   "cell_type": "markdown",
   "metadata": {},
   "source": [
    "- Agrupo las clases y disminuyo categorias\n",
    "- Cuando las transforme debo ordenarlas numéricamente"
   ]
  },
  {
   "cell_type": "code",
   "execution_count": 45,
   "metadata": {},
   "outputs": [
    {
     "data": {
      "text/plain": [
       "Education\n",
       "Graduate         1126\n",
       "Postgraduate      853\n",
       "Undergraduate     257\n",
       "Name: count, dtype: int64"
      ]
     },
     "execution_count": 45,
     "metadata": {},
     "output_type": "execute_result"
    }
   ],
   "source": [
    "df[\"Education\"].value_counts()"
   ]
  },
  {
   "cell_type": "code",
   "execution_count": 46,
   "metadata": {},
   "outputs": [
    {
     "data": {
      "text/plain": [
       "Education\n",
       "Graduate         1126\n",
       "Postgraduate      853\n",
       "Undergraduate     257\n",
       "Name: count, dtype: int64"
      ]
     },
     "execution_count": 46,
     "metadata": {},
     "output_type": "execute_result"
    }
   ],
   "source": [
    "# Simplifico y agrupo las categorias de Education\n",
    "df[\"Education\"] = df[\"Education\"].replace({\"Basic\":\"Undergraduate\",\n",
    "                                                 \"2n Cycle\":\"Undergraduate\", \n",
    "                                                 \"Graduation\":\"Graduate\", \n",
    "                                                 \"Master\":\"Postgraduate\", \n",
    "                                                 \"PhD\":\"Postgraduate\"})\n",
    "df[\"Education\"].value_counts()"
   ]
  },
  {
   "cell_type": "markdown",
   "metadata": {},
   "source": [
    "##### - 'Marital_Status'"
   ]
  },
  {
   "cell_type": "markdown",
   "metadata": {},
   "source": [
    "- Algunas clases se pueden agrupar\n",
    "- Cuando las transforme debo ordenarlas numéricamente\n",
    "- Algunas clases extrañas. Se pueden imputar(o borrar)"
   ]
  },
  {
   "cell_type": "code",
   "execution_count": 47,
   "metadata": {},
   "outputs": [
    {
     "data": {
      "text/plain": [
       "Marital_Status\n",
       "Couple    1444\n",
       "Single     792\n",
       "Name: count, dtype: int64"
      ]
     },
     "execution_count": 47,
     "metadata": {},
     "output_type": "execute_result"
    }
   ],
   "source": [
    "df[\"Marital_Status\"].value_counts()"
   ]
  },
  {
   "cell_type": "code",
   "execution_count": 48,
   "metadata": {},
   "outputs": [
    {
     "data": {
      "text/plain": [
       "Marital_Status\n",
       "Couple    1444\n",
       "Single     792\n",
       "Name: count, dtype: int64"
      ]
     },
     "execution_count": 48,
     "metadata": {},
     "output_type": "execute_result"
    }
   ],
   "source": [
    "# Agrupo las categorias en Together y Single\n",
    "df[\"Marital_Status\"] = df[\"Marital_Status\"].replace([\"Married\", \"Together\"],\"Couple\")\n",
    "df[\"Marital_Status\"] = df[\"Marital_Status\"].replace([\"Divorced\", \"Widow\", \"Alone\"],\"Single\")\n",
    "\n",
    "df[\"Marital_Status\"].value_counts()"
   ]
  },
  {
   "cell_type": "code",
   "execution_count": 49,
   "metadata": {},
   "outputs": [
    {
     "data": {
      "text/html": [
       "<div>\n",
       "<style scoped>\n",
       "    .dataframe tbody tr th:only-of-type {\n",
       "        vertical-align: middle;\n",
       "    }\n",
       "\n",
       "    .dataframe tbody tr th {\n",
       "        vertical-align: top;\n",
       "    }\n",
       "\n",
       "    .dataframe thead th {\n",
       "        text-align: right;\n",
       "    }\n",
       "</style>\n",
       "<table border=\"1\" class=\"dataframe\">\n",
       "  <thead>\n",
       "    <tr style=\"text-align: right;\">\n",
       "      <th></th>\n",
       "      <th>ID</th>\n",
       "      <th>Year_Birth</th>\n",
       "      <th>Education</th>\n",
       "      <th>Marital_Status</th>\n",
       "      <th>Income</th>\n",
       "      <th>Kidhome</th>\n",
       "      <th>Teenhome</th>\n",
       "      <th>Dt_Customer</th>\n",
       "      <th>Recency</th>\n",
       "      <th>MntWines</th>\n",
       "      <th>...</th>\n",
       "      <th>AcceptedCmp5</th>\n",
       "      <th>AcceptedCmp1</th>\n",
       "      <th>AcceptedCmp2</th>\n",
       "      <th>Complain</th>\n",
       "      <th>Z_CostContact</th>\n",
       "      <th>Z_Revenue</th>\n",
       "      <th>Response</th>\n",
       "      <th>Age</th>\n",
       "      <th>Children</th>\n",
       "      <th>Family_Size</th>\n",
       "    </tr>\n",
       "  </thead>\n",
       "  <tbody>\n",
       "  </tbody>\n",
       "</table>\n",
       "<p>0 rows × 32 columns</p>\n",
       "</div>"
      ],
      "text/plain": [
       "Empty DataFrame\n",
       "Columns: [ID, Year_Birth, Education, Marital_Status, Income, Kidhome, Teenhome, Dt_Customer, Recency, MntWines, MntFruits, MntMeatProducts, MntFishProducts, MntSweetProducts, MntGoldProds, NumDealsPurchases, NumWebPurchases, NumCatalogPurchases, NumStorePurchases, NumWebVisitsMonth, AcceptedCmp3, AcceptedCmp4, AcceptedCmp5, AcceptedCmp1, AcceptedCmp2, Complain, Z_CostContact, Z_Revenue, Response, Age, Children, Family_Size]\n",
       "Index: []\n",
       "\n",
       "[0 rows x 32 columns]"
      ]
     },
     "execution_count": 49,
     "metadata": {},
     "output_type": "execute_result"
    }
   ],
   "source": [
    "df.loc[(df[\"Marital_Status\"] == \"Absurd\") | (df[\"Marital_Status\"] == \"YOLO\")]"
   ]
  },
  {
   "cell_type": "markdown",
   "metadata": {},
   "source": [
    "- Como son pocos, lso borro directamente. Además, una fila parece duplicada (salvo por el valor response)"
   ]
  },
  {
   "cell_type": "code",
   "execution_count": 50,
   "metadata": {},
   "outputs": [
    {
     "data": {
      "text/plain": [
       "Marital_Status\n",
       "Couple    1444\n",
       "Single     792\n",
       "Name: count, dtype: int64"
      ]
     },
     "execution_count": 50,
     "metadata": {},
     "output_type": "execute_result"
    }
   ],
   "source": [
    "values_to_drop = df[(df[\"Marital_Status\"] == \"Absurd\") | (df[\"Marital_Status\"] == \"YOLO\")].index\n",
    "df.drop(index=values_to_drop, inplace=True)\n",
    "\n",
    "df[\"Marital_Status\"].value_counts()"
   ]
  },
  {
   "cell_type": "markdown",
   "metadata": {},
   "source": [
    "##### - 'Income'"
   ]
  },
  {
   "cell_type": "markdown",
   "metadata": {},
   "source": [
    "- Contiene valores NaN (borrar o imputar)\n",
    "- Outliers"
   ]
  },
  {
   "cell_type": "code",
   "execution_count": 51,
   "metadata": {},
   "outputs": [
    {
     "data": {
      "text/html": [
       "<div>\n",
       "<style scoped>\n",
       "    .dataframe tbody tr th:only-of-type {\n",
       "        vertical-align: middle;\n",
       "    }\n",
       "\n",
       "    .dataframe tbody tr th {\n",
       "        vertical-align: top;\n",
       "    }\n",
       "\n",
       "    .dataframe thead th {\n",
       "        text-align: right;\n",
       "    }\n",
       "</style>\n",
       "<table border=\"1\" class=\"dataframe\">\n",
       "  <thead>\n",
       "    <tr style=\"text-align: right;\">\n",
       "      <th></th>\n",
       "      <th>count</th>\n",
       "      <th>mean</th>\n",
       "      <th>std</th>\n",
       "      <th>min</th>\n",
       "      <th>25%</th>\n",
       "      <th>50%</th>\n",
       "      <th>75%</th>\n",
       "      <th>max</th>\n",
       "      <th>NaN</th>\n",
       "      <th>Dtype</th>\n",
       "    </tr>\n",
       "  </thead>\n",
       "  <tbody>\n",
       "    <tr>\n",
       "      <th>Income</th>\n",
       "      <td>2236.0</td>\n",
       "      <td>51957.525659</td>\n",
       "      <td>21419.111091</td>\n",
       "      <td>1730.0</td>\n",
       "      <td>35502.5</td>\n",
       "      <td>51609.5</td>\n",
       "      <td>68275.75</td>\n",
       "      <td>162397.0</td>\n",
       "      <td>0.0</td>\n",
       "      <td>float64</td>\n",
       "    </tr>\n",
       "  </tbody>\n",
       "</table>\n",
       "</div>"
      ],
      "text/plain": [
       "         count          mean           std     min      25%      50%  \\\n",
       "Income  2236.0  51957.525659  21419.111091  1730.0  35502.5  51609.5   \n",
       "\n",
       "             75%       max  NaN    Dtype  \n",
       "Income  68275.75  162397.0  0.0  float64  "
      ]
     },
     "execution_count": 51,
     "metadata": {},
     "output_type": "execute_result"
    }
   ],
   "source": [
    "# Descripción de la columna 'Income'\n",
    "income_description = df['Income'].describe()\n",
    "\n",
    "# Añadir valores NaN y tipo de columna a la descripción\n",
    "income_description['NaN'] = df['Income'].isnull().sum()\n",
    "income_description['Dtype'] = df['Income'].dtype\n",
    "\n",
    "# Mostrar la descripción en un DataFrame\n",
    "income_description.to_frame().T"
   ]
  },
  {
   "cell_type": "markdown",
   "metadata": {},
   "source": [
    "- Voy a realizar una imputación sobre caso similar, respecto la columna 'Education'"
   ]
  },
  {
   "cell_type": "code",
   "execution_count": 52,
   "metadata": {},
   "outputs": [
    {
     "name": "stdout",
     "output_type": "stream",
     "text": [
      "Media de ingresos para grupo 'Undergraduate':  41823.53\n",
      "Media de ingresos para grupo 'Graduate':  52151.32\n",
      "Media de ingresos para grupo 'Postgraduate':  54754.98\n"
     ]
    }
   ],
   "source": [
    "income_mean_undergraduate = df[df[\"Education\"] == \"Undergraduate\" ][\"Income\"].mean()\n",
    "income_mean_graduate = df[df[\"Education\"] == \"Graduate\" ][\"Income\"].mean()\n",
    "income_mean_postgraduate = df[df[\"Education\"] == \"Postgraduate\" ][\"Income\"].mean()\n",
    "\n",
    "print(\"Media de ingresos para grupo 'Undergraduate': \", round(income_mean_undergraduate,2))\n",
    "print(\"Media de ingresos para grupo 'Graduate': \", round(income_mean_graduate,2))\n",
    "print(\"Media de ingresos para grupo 'Postgraduate': \", round(income_mean_postgraduate,2))"
   ]
  },
  {
   "cell_type": "code",
   "execution_count": 53,
   "metadata": {},
   "outputs": [
    {
     "data": {
      "text/plain": [
       "0"
      ]
     },
     "execution_count": 53,
     "metadata": {},
     "output_type": "execute_result"
    }
   ],
   "source": [
    "# Imputo NaN por la media correspondiente a cada grupo de Education\n",
    "df.loc[(df['Education'] == 'Undergraduate') & (df['Income'].isna()), 'Income'] = income_mean_undergraduate\n",
    "df.loc[(df['Education'] == 'Graduate') & (df['Income'].isna()), 'Income'] = income_mean_graduate\n",
    "df.loc[(df['Education'] == 'Postgraduate') & (df['Income'].isna()), 'Income'] = income_mean_postgraduate\n",
    "\n",
    "# Numero de valores NaN restantes\n",
    "df[\"Income\"].isna().sum()"
   ]
  },
  {
   "cell_type": "code",
   "execution_count": 54,
   "metadata": {},
   "outputs": [
    {
     "data": {
      "image/png": "[encoded data removed]",
      "text/plain": [
       "<Figure size 1200x600 with 1 Axes>"
      ]
     },
     "metadata": {},
     "output_type": "display_data"
    }
   ],
   "source": [
    "plt.figure(figsize=(12, 6))\n",
    "df['Income'].hist(bins=100, grid=False, edgecolor=\"black\")\n",
    "\n",
    "# Identificar el percentil 99 para marcar los outliers\n",
    "outlier_income = df[\"Income\"].quantile(0.9989)\n",
    "outlier_income_ext = df[\"Income\"].quantile(0.999995)\n",
    "\n",
    "# Agregar flecha para señalar los outliers\n",
    "plt.annotate(\n",
    "    \"Outliers\", \n",
    "    xy=(outlier_income, 5),  # Coordenadas (x, y)\n",
    "    xytext=(outlier_income - 50000, 30),  # Posición del texto\n",
    "    arrowprops=dict(facecolor=\"red\", arrowstyle=\"->\", lw=2)\n",
    ")\n",
    "\n",
    "# Agregar flecha para señalar los outliers extremos\n",
    "plt.annotate(\n",
    "    \"Outlier extremo\", \n",
    "    xy=(outlier_income_ext, 5),  # Coordenadas (x, y)\n",
    "    xytext=(outlier_income_ext - 50000, 30),  # Posición del texto\n",
    "    arrowprops=dict(facecolor=\"red\", arrowstyle=\"->\", lw=2)\n",
    ")\n",
    "\n",
    "plt.xlabel(\"Income\")\n",
    "plt.ylabel(\"Frequency\")\n",
    "plt.title(\"Income Distribution with Outliers\")\n",
    "plt.show()\n"
   ]
  },
  {
   "cell_type": "code",
   "execution_count": 55,
   "metadata": {},
   "outputs": [
    {
     "name": "stdout",
     "output_type": "stream",
     "text": [
      "Income\n",
      "162397.0    1\n",
      "160803.0    1\n",
      "157733.0    1\n",
      "157243.0    1\n",
      "157146.0    1\n",
      "156924.0    1\n",
      "153924.0    1\n",
      "Name: count, dtype: int64\n"
     ]
    }
   ],
   "source": [
    "# Num de outliers o edades sin sentido\n",
    "outliers_income = df[df[\"Income\"] > 115000]\n",
    "print(outliers_income[\"Income\"].value_counts(sort=True).sort_index(ascending=False))"
   ]
  },
  {
   "cell_type": "markdown",
   "metadata": {},
   "source": [
    "- Imputo solo el valor extremo, de la misma forma que antes. Los otros outliers lo puedo transformar logaritmicamente luego"
   ]
  },
  {
   "cell_type": "code",
   "execution_count": 56,
   "metadata": {},
   "outputs": [
    {
     "data": {
      "text/html": [
       "<div>\n",
       "<style scoped>\n",
       "    .dataframe tbody tr th:only-of-type {\n",
       "        vertical-align: middle;\n",
       "    }\n",
       "\n",
       "    .dataframe tbody tr th {\n",
       "        vertical-align: top;\n",
       "    }\n",
       "\n",
       "    .dataframe thead th {\n",
       "        text-align: right;\n",
       "    }\n",
       "</style>\n",
       "<table border=\"1\" class=\"dataframe\">\n",
       "  <thead>\n",
       "    <tr style=\"text-align: right;\">\n",
       "      <th></th>\n",
       "      <th>ID</th>\n",
       "      <th>Year_Birth</th>\n",
       "      <th>Education</th>\n",
       "      <th>Marital_Status</th>\n",
       "      <th>Income</th>\n",
       "      <th>Kidhome</th>\n",
       "      <th>Teenhome</th>\n",
       "      <th>Dt_Customer</th>\n",
       "      <th>Recency</th>\n",
       "      <th>MntWines</th>\n",
       "      <th>...</th>\n",
       "      <th>AcceptedCmp5</th>\n",
       "      <th>AcceptedCmp1</th>\n",
       "      <th>AcceptedCmp2</th>\n",
       "      <th>Complain</th>\n",
       "      <th>Z_CostContact</th>\n",
       "      <th>Z_Revenue</th>\n",
       "      <th>Response</th>\n",
       "      <th>Age</th>\n",
       "      <th>Children</th>\n",
       "      <th>Family_Size</th>\n",
       "    </tr>\n",
       "  </thead>\n",
       "  <tbody>\n",
       "  </tbody>\n",
       "</table>\n",
       "<p>0 rows × 32 columns</p>\n",
       "</div>"
      ],
      "text/plain": [
       "Empty DataFrame\n",
       "Columns: [ID, Year_Birth, Education, Marital_Status, Income, Kidhome, Teenhome, Dt_Customer, Recency, MntWines, MntFruits, MntMeatProducts, MntFishProducts, MntSweetProducts, MntGoldProds, NumDealsPurchases, NumWebPurchases, NumCatalogPurchases, NumStorePurchases, NumWebVisitsMonth, AcceptedCmp3, AcceptedCmp4, AcceptedCmp5, AcceptedCmp1, AcceptedCmp2, Complain, Z_CostContact, Z_Revenue, Response, Age, Children, Family_Size]\n",
       "Index: []\n",
       "\n",
       "[0 rows x 32 columns]"
      ]
     },
     "execution_count": 56,
     "metadata": {},
     "output_type": "execute_result"
    }
   ],
   "source": [
    "df.loc[df[\"Income\"] > 200000]"
   ]
  },
  {
   "cell_type": "code",
   "execution_count": 57,
   "metadata": {},
   "outputs": [
    {
     "data": {
      "image/png": "[encoded data removed]",
      "text/plain": [
       "<Figure size 1200x600 with 1 Axes>"
      ]
     },
     "metadata": {},
     "output_type": "display_data"
    }
   ],
   "source": [
    "# Imputo con la mediana\n",
    "df.loc[df[\"Income\"] > 200000, \"Income\"] = income_mean_graduate\n",
    "\n",
    "# Representacion\n",
    "plt.figure(figsize=(12, 6))\n",
    "df['Income'].hist(bins=100, grid=False, edgecolor=\"black\")\n",
    "plt.xlabel(\"Income\")\n",
    "plt.ylabel(\"Frequency\")\n",
    "plt.title(\"Income Distribution with Outliers\")\n",
    "plt.show()"
   ]
  },
  {
   "cell_type": "markdown",
   "metadata": {},
   "source": [
    "##### - 'Kidhome' , 'Teenhome' ('Children')"
   ]
  },
  {
   "cell_type": "markdown",
   "metadata": {},
   "source": [
    "- Ambas columnas se podrían tratar como una única que trata el número de hijos"
   ]
  },
  {
   "cell_type": "code",
   "execution_count": 58,
   "metadata": {},
   "outputs": [
    {
     "name": "stdout",
     "output_type": "stream",
     "text": [
      "Kidhome\n",
      "0    1289\n",
      "1     899\n",
      "2      48\n",
      "Name: count, dtype: int64 \n",
      "\n",
      "Teenhome\n",
      "0    1156\n",
      "1    1028\n",
      "2      52\n",
      "Name: count, dtype: int64\n"
     ]
    }
   ],
   "source": [
    "print(df.Kidhome.value_counts(), \"\\n\")\n",
    "print(df.Teenhome.value_counts())"
   ]
  },
  {
   "cell_type": "code",
   "execution_count": 59,
   "metadata": {},
   "outputs": [
    {
     "name": "stdout",
     "output_type": "stream",
     "text": [
      "Children\n",
      "1    1126\n",
      "0     636\n",
      "2     421\n",
      "3      53\n",
      "Name: count, dtype: int64\n"
     ]
    },
    {
     "data": {
      "text/html": [
       "<div>\n",
       "<style scoped>\n",
       "    .dataframe tbody tr th:only-of-type {\n",
       "        vertical-align: middle;\n",
       "    }\n",
       "\n",
       "    .dataframe tbody tr th {\n",
       "        vertical-align: top;\n",
       "    }\n",
       "\n",
       "    .dataframe thead th {\n",
       "        text-align: right;\n",
       "    }\n",
       "</style>\n",
       "<table border=\"1\" class=\"dataframe\">\n",
       "  <thead>\n",
       "    <tr style=\"text-align: right;\">\n",
       "      <th>Teenhome</th>\n",
       "      <th>0</th>\n",
       "      <th>1</th>\n",
       "      <th>2</th>\n",
       "    </tr>\n",
       "    <tr>\n",
       "      <th>Kidhome</th>\n",
       "      <th></th>\n",
       "      <th></th>\n",
       "      <th></th>\n",
       "    </tr>\n",
       "  </thead>\n",
       "  <tbody>\n",
       "    <tr>\n",
       "      <th>0</th>\n",
       "      <td>636</td>\n",
       "      <td>623</td>\n",
       "      <td>30</td>\n",
       "    </tr>\n",
       "    <tr>\n",
       "      <th>1</th>\n",
       "      <td>503</td>\n",
       "      <td>374</td>\n",
       "      <td>22</td>\n",
       "    </tr>\n",
       "    <tr>\n",
       "      <th>2</th>\n",
       "      <td>17</td>\n",
       "      <td>31</td>\n",
       "      <td>0</td>\n",
       "    </tr>\n",
       "  </tbody>\n",
       "</table>\n",
       "</div>"
      ],
      "text/plain": [
       "Teenhome    0    1   2\n",
       "Kidhome               \n",
       "0         636  623  30\n",
       "1         503  374  22\n",
       "2          17   31   0"
      ]
     },
     "execution_count": 59,
     "metadata": {},
     "output_type": "execute_result"
    }
   ],
   "source": [
    "# Nueva columna \"Children\" definiendo el numero de hijos\n",
    "df[\"Children\"] = df[\"Kidhome\"] + df[\"Teenhome\"]\n",
    "print(df.Children.value_counts())\n",
    "pd.crosstab(df[\"Kidhome\"], df[\"Teenhome\"])"
   ]
  },
  {
   "cell_type": "code",
   "execution_count": 60,
   "metadata": {},
   "outputs": [
    {
     "name": "stdout",
     "output_type": "stream",
     "text": [
      "Excluidas:  ['Z_CostContact', 'Z_Revenue', 'ID', 'Year_Birth', 'Kidhome', 'Teenhome']\n"
     ]
    }
   ],
   "source": [
    "# Añado a exclude\n",
    "add_to_exclude(\"Kidhome\", \"Teenhome\")"
   ]
  },
  {
   "cell_type": "markdown",
   "metadata": {},
   "source": [
    "##### - 'Dt_customer'"
   ]
  },
  {
   "cell_type": "markdown",
   "metadata": {},
   "source": [
    "- Convertir a formato fecha\n",
    "- No se si la usaré"
   ]
  },
  {
   "cell_type": "code",
   "execution_count": 61,
   "metadata": {},
   "outputs": [
    {
     "data": {
      "text/plain": [
       "count                             2236\n",
       "mean     2013-07-10 15:56:21.037566976\n",
       "min                2012-07-30 00:00:00\n",
       "25%                2013-01-17 00:00:00\n",
       "50%                2013-07-09 00:00:00\n",
       "75%                2013-12-30 06:00:00\n",
       "max                2014-06-29 00:00:00\n",
       "Name: Dt_Customer, dtype: object"
      ]
     },
     "execution_count": 61,
     "metadata": {},
     "output_type": "execute_result"
    }
   ],
   "source": [
    "df[\"Dt_Customer\"].describe()"
   ]
  },
  {
   "cell_type": "code",
   "execution_count": 62,
   "metadata": {},
   "outputs": [
    {
     "name": "stdout",
     "output_type": "stream",
     "text": [
      "0      2012-09-04\n",
      "1      2014-03-08\n",
      "2      2013-08-21\n",
      "3      2014-02-10\n",
      "4      2014-01-19\n",
      "          ...    \n",
      "2235   2013-06-13\n",
      "2236   2014-06-10\n",
      "2237   2014-01-25\n",
      "2238   2014-01-24\n",
      "2239   2012-10-15\n",
      "Name: Dt_Customer, Length: 2236, dtype: datetime64[ns]\n"
     ]
    }
   ],
   "source": [
    "# Conversion a formato fecha\n",
    "df[\"Dt_Customer\"] = pd.to_datetime(df[\"Dt_Customer\"], dayfirst=True, errors='coerce') #  la columna a tipo fecha con dayfirst=True\n",
    "print(df[\"Dt_Customer\"])"
   ]
  },
  {
   "cell_type": "markdown",
   "metadata": {},
   "source": [
    "##### - 'Recency'"
   ]
  },
  {
   "cell_type": "markdown",
   "metadata": {},
   "source": [
    "- Recency: Dias desde la última compra\n",
    "- Nada a realizar"
   ]
  },
  {
   "cell_type": "code",
   "execution_count": 63,
   "metadata": {},
   "outputs": [
    {
     "data": {
      "text/plain": [
       "array([58, 38, 26, 94, 16, 34, 32, 19, 68, 11, 59, 82, 53, 23, 51, 20, 91,\n",
       "       86, 41, 42, 63,  0, 69, 89,  4, 96, 56, 31,  8, 55, 37, 76, 99,  3,\n",
       "       88, 80, 72, 24, 92, 39, 29,  2, 54, 57, 30, 12, 18, 75, 90,  1, 25,\n",
       "       40,  9, 87,  5, 95, 48, 70, 79, 45, 84, 44, 43, 35, 15, 17, 46, 27,\n",
       "       74, 85, 65, 13, 83, 10, 21, 61, 73, 47, 36, 49, 28, 64, 98, 78, 77,\n",
       "       81, 14, 52, 93, 50, 60, 66, 97, 62,  6, 33, 67, 22, 71,  7],\n",
       "      dtype=int64)"
      ]
     },
     "execution_count": 63,
     "metadata": {},
     "output_type": "execute_result"
    }
   ],
   "source": [
    "df.Recency.unique()"
   ]
  },
  {
   "cell_type": "markdown",
   "metadata": {},
   "source": [
    "##### - 'Complain'"
   ]
  },
  {
   "cell_type": "markdown",
   "metadata": {},
   "source": [
    "- Quejas en los ultimos 2 años (0 : NO , 1: YES)"
   ]
  },
  {
   "cell_type": "code",
   "execution_count": 64,
   "metadata": {},
   "outputs": [
    {
     "data": {
      "text/plain": [
       "Complain\n",
       "0    2215\n",
       "1      21\n",
       "Name: count, dtype: int64"
      ]
     },
     "execution_count": 64,
     "metadata": {},
     "output_type": "execute_result"
    }
   ],
   "source": [
    "df.Complain.value_counts()"
   ]
  },
  {
   "cell_type": "markdown",
   "metadata": {},
   "source": [
    "##### - ('Family_size')"
   ]
  },
  {
   "cell_type": "code",
   "execution_count": 65,
   "metadata": {},
   "outputs": [
    {
     "name": "stdout",
     "output_type": "stream",
     "text": [
      "Family_Size\n",
      "2    1126\n",
      "1     636\n",
      "3     421\n",
      "4      53\n",
      "Name: count, dtype: int64\n"
     ]
    }
   ],
   "source": [
    "# Nueva columna \"Family_Size\" definiendo el numero de miembros en la familia\n",
    "df[\"Family_Size\"] = df[\"Children\"] + (df[\"Marital_Status\"] == 'Together') + 1\n",
    "print(df.Family_Size.value_counts())"
   ]
  },
  {
   "cell_type": "markdown",
   "metadata": {},
   "source": [
    "#### B) *products* features"
   ]
  },
  {
   "cell_type": "markdown",
   "metadata": {},
   "source": [
    "##### - \"MntWines\", \"MntFruits\", \"MntMeatProducts\", \"MntFishProducts\", \"MntSweetProducts\", \"MntGoldProds\""
   ]
  },
  {
   "cell_type": "markdown",
   "metadata": {},
   "source": [
    "- Todas tienen una distribución similar\n",
    "- Crear nueva columna con total de gastos\n",
    "- Checkeo que no haya datos erroneos (cero en total de gastos)"
   ]
  },
  {
   "cell_type": "code",
   "execution_count": 66,
   "metadata": {},
   "outputs": [
    {
     "data": {
      "image/png": "[encoded data removed]",
      "text/plain": [
       "<Figure size 2000x400 with 6 Axes>"
      ]
     },
     "metadata": {},
     "output_type": "display_data"
    }
   ],
   "source": [
    "products = [\"MntWines\", \"MntFruits\", \"MntMeatProducts\", \"MntFishProducts\", \"MntSweetProducts\", \"MntGoldProds\"]\n",
    "\n",
    "fig, axes = plt.subplots(1, len(products), figsize=(20, 4))  # Una fila, tantas columnas como features\n",
    "\n",
    "for col, ax in zip(products, axes):\n",
    "    ax.hist(df[col], bins=50, edgecolor=\"black\")\n",
    "    ax.set_title(col)\n",
    "    ax.set_xlabel(\"Amount\")\n",
    "    ax.set_ylabel(\"Frequency\")\n",
    "\n",
    "plt.tight_layout()\n",
    "plt.show()"
   ]
  },
  {
   "cell_type": "markdown",
   "metadata": {},
   "source": [
    "##### - ('Total_Spent')"
   ]
  },
  {
   "cell_type": "code",
   "execution_count": 67,
   "metadata": {},
   "outputs": [
    {
     "data": {
      "image/png": "[encoded data removed]",
      "text/plain": [
       "<Figure size 900x300 with 1 Axes>"
      ]
     },
     "metadata": {},
     "output_type": "display_data"
    }
   ],
   "source": [
    "# Nueva columna con el total gastado \n",
    "df[\"Total_Spent\"] = df[[\"MntWines\", \"MntFruits\", \"MntMeatProducts\", \"MntFishProducts\", \"MntSweetProducts\", \"MntGoldProds\"]].sum(axis=1) # Axis 1 (suma por filas)\n",
    "\n",
    "plt.figure(figsize=(9,3))\n",
    "plt.hist(df[\"Total_Spent\"], bins=50, edgecolor=\"black\")\n",
    "plt.xlabel(\"Amount\")\n",
    "plt.ylabel(\"Frequency\")\n",
    "plt.title(\"Total_Spent\")\n",
    "plt.show()"
   ]
  },
  {
   "cell_type": "code",
   "execution_count": 68,
   "metadata": {},
   "outputs": [
    {
     "data": {
      "text/html": [
       "<div>\n",
       "<style scoped>\n",
       "    .dataframe tbody tr th:only-of-type {\n",
       "        vertical-align: middle;\n",
       "    }\n",
       "\n",
       "    .dataframe tbody tr th {\n",
       "        vertical-align: top;\n",
       "    }\n",
       "\n",
       "    .dataframe thead th {\n",
       "        text-align: right;\n",
       "    }\n",
       "</style>\n",
       "<table border=\"1\" class=\"dataframe\">\n",
       "  <thead>\n",
       "    <tr style=\"text-align: right;\">\n",
       "      <th></th>\n",
       "      <th>ID</th>\n",
       "      <th>Year_Birth</th>\n",
       "      <th>Education</th>\n",
       "      <th>Marital_Status</th>\n",
       "      <th>Income</th>\n",
       "      <th>Kidhome</th>\n",
       "      <th>Teenhome</th>\n",
       "      <th>Dt_Customer</th>\n",
       "      <th>Recency</th>\n",
       "      <th>MntWines</th>\n",
       "      <th>...</th>\n",
       "      <th>AcceptedCmp1</th>\n",
       "      <th>AcceptedCmp2</th>\n",
       "      <th>Complain</th>\n",
       "      <th>Z_CostContact</th>\n",
       "      <th>Z_Revenue</th>\n",
       "      <th>Response</th>\n",
       "      <th>Age</th>\n",
       "      <th>Children</th>\n",
       "      <th>Family_Size</th>\n",
       "      <th>Total_Spent</th>\n",
       "    </tr>\n",
       "  </thead>\n",
       "  <tbody>\n",
       "  </tbody>\n",
       "</table>\n",
       "<p>0 rows × 33 columns</p>\n",
       "</div>"
      ],
      "text/plain": [
       "Empty DataFrame\n",
       "Columns: [ID, Year_Birth, Education, Marital_Status, Income, Kidhome, Teenhome, Dt_Customer, Recency, MntWines, MntFruits, MntMeatProducts, MntFishProducts, MntSweetProducts, MntGoldProds, NumDealsPurchases, NumWebPurchases, NumCatalogPurchases, NumStorePurchases, NumWebVisitsMonth, AcceptedCmp3, AcceptedCmp4, AcceptedCmp5, AcceptedCmp1, AcceptedCmp2, Complain, Z_CostContact, Z_Revenue, Response, Age, Children, Family_Size, Total_Spent]\n",
       "Index: []\n",
       "\n",
       "[0 rows x 33 columns]"
      ]
     },
     "execution_count": 68,
     "metadata": {},
     "output_type": "execute_result"
    }
   ],
   "source": [
    "# Comprobación de que siempre se ha comprado algo\n",
    "df.loc[(df['Total_Spent'] == 0)]"
   ]
  },
  {
   "cell_type": "markdown",
   "metadata": {},
   "source": [
    "##### - ('Avg_purcharse')"
   ]
  },
  {
   "cell_type": "code",
   "execution_count": 69,
   "metadata": {},
   "outputs": [
    {
     "data": {
      "text/html": [
       "<div>\n",
       "<style scoped>\n",
       "    .dataframe tbody tr th:only-of-type {\n",
       "        vertical-align: middle;\n",
       "    }\n",
       "\n",
       "    .dataframe tbody tr th {\n",
       "        vertical-align: top;\n",
       "    }\n",
       "\n",
       "    .dataframe thead th {\n",
       "        text-align: right;\n",
       "    }\n",
       "</style>\n",
       "<table border=\"1\" class=\"dataframe\">\n",
       "  <thead>\n",
       "    <tr style=\"text-align: right;\">\n",
       "      <th></th>\n",
       "      <th>ID</th>\n",
       "      <th>Year_Birth</th>\n",
       "      <th>Education</th>\n",
       "      <th>Marital_Status</th>\n",
       "      <th>Income</th>\n",
       "      <th>Kidhome</th>\n",
       "      <th>Teenhome</th>\n",
       "      <th>Dt_Customer</th>\n",
       "      <th>Recency</th>\n",
       "      <th>MntWines</th>\n",
       "      <th>...</th>\n",
       "      <th>AcceptedCmp2</th>\n",
       "      <th>Complain</th>\n",
       "      <th>Z_CostContact</th>\n",
       "      <th>Z_Revenue</th>\n",
       "      <th>Response</th>\n",
       "      <th>Age</th>\n",
       "      <th>Children</th>\n",
       "      <th>Family_Size</th>\n",
       "      <th>Total_Spent</th>\n",
       "      <th>Avg_purcharse</th>\n",
       "    </tr>\n",
       "  </thead>\n",
       "  <tbody>\n",
       "    <tr>\n",
       "      <th>0</th>\n",
       "      <td>5524</td>\n",
       "      <td>1957</td>\n",
       "      <td>Graduate</td>\n",
       "      <td>Single</td>\n",
       "      <td>58138.0</td>\n",
       "      <td>0</td>\n",
       "      <td>0</td>\n",
       "      <td>2012-09-04</td>\n",
       "      <td>58</td>\n",
       "      <td>635</td>\n",
       "      <td>...</td>\n",
       "      <td>0</td>\n",
       "      <td>0</td>\n",
       "      <td>3</td>\n",
       "      <td>11</td>\n",
       "      <td>1</td>\n",
       "      <td>68</td>\n",
       "      <td>0</td>\n",
       "      <td>1</td>\n",
       "      <td>1617</td>\n",
       "      <td>73.50</td>\n",
       "    </tr>\n",
       "    <tr>\n",
       "      <th>1</th>\n",
       "      <td>2174</td>\n",
       "      <td>1954</td>\n",
       "      <td>Graduate</td>\n",
       "      <td>Single</td>\n",
       "      <td>46344.0</td>\n",
       "      <td>1</td>\n",
       "      <td>1</td>\n",
       "      <td>2014-03-08</td>\n",
       "      <td>38</td>\n",
       "      <td>11</td>\n",
       "      <td>...</td>\n",
       "      <td>0</td>\n",
       "      <td>0</td>\n",
       "      <td>3</td>\n",
       "      <td>11</td>\n",
       "      <td>0</td>\n",
       "      <td>71</td>\n",
       "      <td>2</td>\n",
       "      <td>3</td>\n",
       "      <td>27</td>\n",
       "      <td>6.75</td>\n",
       "    </tr>\n",
       "    <tr>\n",
       "      <th>2</th>\n",
       "      <td>4141</td>\n",
       "      <td>1965</td>\n",
       "      <td>Graduate</td>\n",
       "      <td>Couple</td>\n",
       "      <td>71613.0</td>\n",
       "      <td>0</td>\n",
       "      <td>0</td>\n",
       "      <td>2013-08-21</td>\n",
       "      <td>26</td>\n",
       "      <td>426</td>\n",
       "      <td>...</td>\n",
       "      <td>0</td>\n",
       "      <td>0</td>\n",
       "      <td>3</td>\n",
       "      <td>11</td>\n",
       "      <td>0</td>\n",
       "      <td>60</td>\n",
       "      <td>0</td>\n",
       "      <td>1</td>\n",
       "      <td>776</td>\n",
       "      <td>38.80</td>\n",
       "    </tr>\n",
       "  </tbody>\n",
       "</table>\n",
       "<p>3 rows × 34 columns</p>\n",
       "</div>"
      ],
      "text/plain": [
       "     ID  Year_Birth Education Marital_Status   Income  Kidhome  Teenhome  \\\n",
       "0  5524        1957  Graduate         Single  58138.0        0         0   \n",
       "1  2174        1954  Graduate         Single  46344.0        1         1   \n",
       "2  4141        1965  Graduate         Couple  71613.0        0         0   \n",
       "\n",
       "  Dt_Customer  Recency  MntWines  ...  AcceptedCmp2  Complain  Z_CostContact  \\\n",
       "0  2012-09-04       58       635  ...             0         0              3   \n",
       "1  2014-03-08       38        11  ...             0         0              3   \n",
       "2  2013-08-21       26       426  ...             0         0              3   \n",
       "\n",
       "   Z_Revenue  Response  Age  Children  Family_Size  Total_Spent  Avg_purcharse  \n",
       "0         11         1   68         0            1         1617          73.50  \n",
       "1         11         0   71         2            3           27           6.75  \n",
       "2         11         0   60         0            1          776          38.80  \n",
       "\n",
       "[3 rows x 34 columns]"
      ]
     },
     "execution_count": 69,
     "metadata": {},
     "output_type": "execute_result"
    }
   ],
   "source": [
    "# Nueva columna, para el promedio de gasto por compra\n",
    "df[\"Avg_purcharse\"] = round(df[\"Total_Spent\"] / (df[\"NumWebPurchases\"] + df[\"NumCatalogPurchases\"] + df[\"NumStorePurchases\"]),3)\n",
    "df.head(3)"
   ]
  },
  {
   "cell_type": "markdown",
   "metadata": {},
   "source": [
    "#### C) *place* features"
   ]
  },
  {
   "cell_type": "markdown",
   "metadata": {},
   "source": [
    "##### - \"NumWebPurchases\", \"NumCatalogPurchases\", \"NumStorePurchases\", \"NumWebVisitsMonth\""
   ]
  },
  {
   "cell_type": "markdown",
   "metadata": {},
   "source": [
    "- Outliers, pero dentro de lo normal (posibles transformaciones logarítimicas en la fase de feature engineering)\n",
    "- Checkeo datos erroneos (cero en gasto en todas los canales de compra)"
   ]
  },
  {
   "cell_type": "code",
   "execution_count": 70,
   "metadata": {},
   "outputs": [
    {
     "data": {
      "image/png": "[encoded data removed]",
      "text/plain": [
       "<Figure size 2000x400 with 4 Axes>"
      ]
     },
     "metadata": {},
     "output_type": "display_data"
    }
   ],
   "source": [
    "purchases = [\"NumWebPurchases\", \"NumCatalogPurchases\", \"NumStorePurchases\",\"NumWebVisitsMonth\"]\n",
    "\n",
    "fig, axes = plt.subplots(1, len(purchases), figsize=(20, 4))  # Una fila, tantas columnas como features\n",
    "\n",
    "for col, ax in zip(purchases, axes):\n",
    "    ax.hist(df[col], bins=50, edgecolor=\"black\")\n",
    "    ax.set_title(col)\n",
    "    ax.set_xlabel(\"Amount\")\n",
    "    ax.set_ylabel(\"Frequency\")\n",
    "\n",
    "plt.tight_layout()\n",
    "plt.show()"
   ]
  },
  {
   "cell_type": "code",
   "execution_count": 71,
   "metadata": {},
   "outputs": [
    {
     "data": {
      "text/html": [
       "<div>\n",
       "<style scoped>\n",
       "    .dataframe tbody tr th:only-of-type {\n",
       "        vertical-align: middle;\n",
       "    }\n",
       "\n",
       "    .dataframe tbody tr th {\n",
       "        vertical-align: top;\n",
       "    }\n",
       "\n",
       "    .dataframe thead th {\n",
       "        text-align: right;\n",
       "    }\n",
       "</style>\n",
       "<table border=\"1\" class=\"dataframe\">\n",
       "  <thead>\n",
       "    <tr style=\"text-align: right;\">\n",
       "      <th></th>\n",
       "      <th>NumWebPurchases</th>\n",
       "      <th>NumCatalogPurchases</th>\n",
       "      <th>NumStorePurchases</th>\n",
       "      <th>NumWebVisitsMonth</th>\n",
       "    </tr>\n",
       "  </thead>\n",
       "  <tbody>\n",
       "    <tr>\n",
       "      <th>count</th>\n",
       "      <td>2236.000000</td>\n",
       "      <td>2236.000000</td>\n",
       "      <td>2236.000000</td>\n",
       "      <td>2236.000000</td>\n",
       "    </tr>\n",
       "    <tr>\n",
       "      <th>mean</th>\n",
       "      <td>4.082737</td>\n",
       "      <td>2.659213</td>\n",
       "      <td>5.789356</td>\n",
       "      <td>5.317531</td>\n",
       "    </tr>\n",
       "    <tr>\n",
       "      <th>std</th>\n",
       "      <td>2.779736</td>\n",
       "      <td>2.920752</td>\n",
       "      <td>3.253756</td>\n",
       "      <td>2.424756</td>\n",
       "    </tr>\n",
       "    <tr>\n",
       "      <th>min</th>\n",
       "      <td>0.000000</td>\n",
       "      <td>0.000000</td>\n",
       "      <td>0.000000</td>\n",
       "      <td>0.000000</td>\n",
       "    </tr>\n",
       "    <tr>\n",
       "      <th>25%</th>\n",
       "      <td>2.000000</td>\n",
       "      <td>0.000000</td>\n",
       "      <td>3.000000</td>\n",
       "      <td>3.000000</td>\n",
       "    </tr>\n",
       "    <tr>\n",
       "      <th>50%</th>\n",
       "      <td>4.000000</td>\n",
       "      <td>2.000000</td>\n",
       "      <td>5.000000</td>\n",
       "      <td>6.000000</td>\n",
       "    </tr>\n",
       "    <tr>\n",
       "      <th>75%</th>\n",
       "      <td>6.000000</td>\n",
       "      <td>4.000000</td>\n",
       "      <td>8.000000</td>\n",
       "      <td>7.000000</td>\n",
       "    </tr>\n",
       "    <tr>\n",
       "      <th>max</th>\n",
       "      <td>27.000000</td>\n",
       "      <td>28.000000</td>\n",
       "      <td>13.000000</td>\n",
       "      <td>20.000000</td>\n",
       "    </tr>\n",
       "  </tbody>\n",
       "</table>\n",
       "</div>"
      ],
      "text/plain": [
       "       NumWebPurchases  NumCatalogPurchases  NumStorePurchases  \\\n",
       "count      2236.000000          2236.000000        2236.000000   \n",
       "mean          4.082737             2.659213           5.789356   \n",
       "std           2.779736             2.920752           3.253756   \n",
       "min           0.000000             0.000000           0.000000   \n",
       "25%           2.000000             0.000000           3.000000   \n",
       "50%           4.000000             2.000000           5.000000   \n",
       "75%           6.000000             4.000000           8.000000   \n",
       "max          27.000000            28.000000          13.000000   \n",
       "\n",
       "       NumWebVisitsMonth  \n",
       "count        2236.000000  \n",
       "mean            5.317531  \n",
       "std             2.424756  \n",
       "min             0.000000  \n",
       "25%             3.000000  \n",
       "50%             6.000000  \n",
       "75%             7.000000  \n",
       "max            20.000000  "
      ]
     },
     "execution_count": 71,
     "metadata": {},
     "output_type": "execute_result"
    }
   ],
   "source": [
    "df[purchases].describe()"
   ]
  },
  {
   "cell_type": "markdown",
   "metadata": {},
   "source": [
    "- Checkeo datos erroneos: Seis clientes no han realizado compras por ningun canal, por lo que es mejor borrarlos."
   ]
  },
  {
   "cell_type": "code",
   "execution_count": 72,
   "metadata": {},
   "outputs": [
    {
     "data": {
      "text/html": [
       "<div>\n",
       "<style scoped>\n",
       "    .dataframe tbody tr th:only-of-type {\n",
       "        vertical-align: middle;\n",
       "    }\n",
       "\n",
       "    .dataframe tbody tr th {\n",
       "        vertical-align: top;\n",
       "    }\n",
       "\n",
       "    .dataframe thead th {\n",
       "        text-align: right;\n",
       "    }\n",
       "</style>\n",
       "<table border=\"1\" class=\"dataframe\">\n",
       "  <thead>\n",
       "    <tr style=\"text-align: right;\">\n",
       "      <th></th>\n",
       "      <th>NumWebPurchases</th>\n",
       "      <th>NumCatalogPurchases</th>\n",
       "      <th>NumStorePurchases</th>\n",
       "      <th>NumWebVisitsMonth</th>\n",
       "    </tr>\n",
       "  </thead>\n",
       "  <tbody>\n",
       "    <tr>\n",
       "      <th>655</th>\n",
       "      <td>0</td>\n",
       "      <td>0</td>\n",
       "      <td>0</td>\n",
       "      <td>0</td>\n",
       "    </tr>\n",
       "    <tr>\n",
       "      <th>981</th>\n",
       "      <td>0</td>\n",
       "      <td>0</td>\n",
       "      <td>0</td>\n",
       "      <td>14</td>\n",
       "    </tr>\n",
       "    <tr>\n",
       "      <th>1245</th>\n",
       "      <td>0</td>\n",
       "      <td>0</td>\n",
       "      <td>0</td>\n",
       "      <td>20</td>\n",
       "    </tr>\n",
       "    <tr>\n",
       "      <th>1524</th>\n",
       "      <td>0</td>\n",
       "      <td>0</td>\n",
       "      <td>0</td>\n",
       "      <td>14</td>\n",
       "    </tr>\n",
       "    <tr>\n",
       "      <th>1846</th>\n",
       "      <td>0</td>\n",
       "      <td>0</td>\n",
       "      <td>0</td>\n",
       "      <td>19</td>\n",
       "    </tr>\n",
       "    <tr>\n",
       "      <th>2132</th>\n",
       "      <td>0</td>\n",
       "      <td>0</td>\n",
       "      <td>0</td>\n",
       "      <td>0</td>\n",
       "    </tr>\n",
       "  </tbody>\n",
       "</table>\n",
       "</div>"
      ],
      "text/plain": [
       "      NumWebPurchases  NumCatalogPurchases  NumStorePurchases  \\\n",
       "655                 0                    0                  0   \n",
       "981                 0                    0                  0   \n",
       "1245                0                    0                  0   \n",
       "1524                0                    0                  0   \n",
       "1846                0                    0                  0   \n",
       "2132                0                    0                  0   \n",
       "\n",
       "      NumWebVisitsMonth  \n",
       "655                   0  \n",
       "981                  14  \n",
       "1245                 20  \n",
       "1524                 14  \n",
       "1846                 19  \n",
       "2132                  0  "
      ]
     },
     "execution_count": 72,
     "metadata": {},
     "output_type": "execute_result"
    }
   ],
   "source": [
    "# Checkeo\n",
    "df.loc[(df['NumWebPurchases'] == 0) & (df['NumCatalogPurchases'] == 0) & (df['NumStorePurchases'] == 0), purchases]"
   ]
  },
  {
   "cell_type": "code",
   "execution_count": 73,
   "metadata": {},
   "outputs": [
    {
     "data": {
      "text/html": [
       "<div>\n",
       "<style scoped>\n",
       "    .dataframe tbody tr th:only-of-type {\n",
       "        vertical-align: middle;\n",
       "    }\n",
       "\n",
       "    .dataframe tbody tr th {\n",
       "        vertical-align: top;\n",
       "    }\n",
       "\n",
       "    .dataframe thead th {\n",
       "        text-align: right;\n",
       "    }\n",
       "</style>\n",
       "<table border=\"1\" class=\"dataframe\">\n",
       "  <thead>\n",
       "    <tr style=\"text-align: right;\">\n",
       "      <th></th>\n",
       "      <th>ID</th>\n",
       "      <th>Year_Birth</th>\n",
       "      <th>Education</th>\n",
       "      <th>Marital_Status</th>\n",
       "      <th>Income</th>\n",
       "      <th>Kidhome</th>\n",
       "      <th>Teenhome</th>\n",
       "      <th>Dt_Customer</th>\n",
       "      <th>Recency</th>\n",
       "      <th>MntWines</th>\n",
       "      <th>...</th>\n",
       "      <th>AcceptedCmp2</th>\n",
       "      <th>Complain</th>\n",
       "      <th>Z_CostContact</th>\n",
       "      <th>Z_Revenue</th>\n",
       "      <th>Response</th>\n",
       "      <th>Age</th>\n",
       "      <th>Children</th>\n",
       "      <th>Family_Size</th>\n",
       "      <th>Total_Spent</th>\n",
       "      <th>Avg_purcharse</th>\n",
       "    </tr>\n",
       "  </thead>\n",
       "  <tbody>\n",
       "    <tr>\n",
       "      <th>0</th>\n",
       "      <td>5524</td>\n",
       "      <td>1957</td>\n",
       "      <td>Graduate</td>\n",
       "      <td>Single</td>\n",
       "      <td>58138.0</td>\n",
       "      <td>0</td>\n",
       "      <td>0</td>\n",
       "      <td>2012-09-04</td>\n",
       "      <td>58</td>\n",
       "      <td>635</td>\n",
       "      <td>...</td>\n",
       "      <td>0</td>\n",
       "      <td>0</td>\n",
       "      <td>3</td>\n",
       "      <td>11</td>\n",
       "      <td>1</td>\n",
       "      <td>68</td>\n",
       "      <td>0</td>\n",
       "      <td>1</td>\n",
       "      <td>1617</td>\n",
       "      <td>73.500</td>\n",
       "    </tr>\n",
       "    <tr>\n",
       "      <th>1</th>\n",
       "      <td>2174</td>\n",
       "      <td>1954</td>\n",
       "      <td>Graduate</td>\n",
       "      <td>Single</td>\n",
       "      <td>46344.0</td>\n",
       "      <td>1</td>\n",
       "      <td>1</td>\n",
       "      <td>2014-03-08</td>\n",
       "      <td>38</td>\n",
       "      <td>11</td>\n",
       "      <td>...</td>\n",
       "      <td>0</td>\n",
       "      <td>0</td>\n",
       "      <td>3</td>\n",
       "      <td>11</td>\n",
       "      <td>0</td>\n",
       "      <td>71</td>\n",
       "      <td>2</td>\n",
       "      <td>3</td>\n",
       "      <td>27</td>\n",
       "      <td>6.750</td>\n",
       "    </tr>\n",
       "    <tr>\n",
       "      <th>2</th>\n",
       "      <td>4141</td>\n",
       "      <td>1965</td>\n",
       "      <td>Graduate</td>\n",
       "      <td>Couple</td>\n",
       "      <td>71613.0</td>\n",
       "      <td>0</td>\n",
       "      <td>0</td>\n",
       "      <td>2013-08-21</td>\n",
       "      <td>26</td>\n",
       "      <td>426</td>\n",
       "      <td>...</td>\n",
       "      <td>0</td>\n",
       "      <td>0</td>\n",
       "      <td>3</td>\n",
       "      <td>11</td>\n",
       "      <td>0</td>\n",
       "      <td>60</td>\n",
       "      <td>0</td>\n",
       "      <td>1</td>\n",
       "      <td>776</td>\n",
       "      <td>38.800</td>\n",
       "    </tr>\n",
       "    <tr>\n",
       "      <th>3</th>\n",
       "      <td>6182</td>\n",
       "      <td>1984</td>\n",
       "      <td>Graduate</td>\n",
       "      <td>Couple</td>\n",
       "      <td>26646.0</td>\n",
       "      <td>1</td>\n",
       "      <td>0</td>\n",
       "      <td>2014-02-10</td>\n",
       "      <td>26</td>\n",
       "      <td>11</td>\n",
       "      <td>...</td>\n",
       "      <td>0</td>\n",
       "      <td>0</td>\n",
       "      <td>3</td>\n",
       "      <td>11</td>\n",
       "      <td>0</td>\n",
       "      <td>41</td>\n",
       "      <td>1</td>\n",
       "      <td>2</td>\n",
       "      <td>53</td>\n",
       "      <td>8.833</td>\n",
       "    </tr>\n",
       "    <tr>\n",
       "      <th>4</th>\n",
       "      <td>5324</td>\n",
       "      <td>1981</td>\n",
       "      <td>Postgraduate</td>\n",
       "      <td>Couple</td>\n",
       "      <td>58293.0</td>\n",
       "      <td>1</td>\n",
       "      <td>0</td>\n",
       "      <td>2014-01-19</td>\n",
       "      <td>94</td>\n",
       "      <td>173</td>\n",
       "      <td>...</td>\n",
       "      <td>0</td>\n",
       "      <td>0</td>\n",
       "      <td>3</td>\n",
       "      <td>11</td>\n",
       "      <td>0</td>\n",
       "      <td>44</td>\n",
       "      <td>1</td>\n",
       "      <td>2</td>\n",
       "      <td>422</td>\n",
       "      <td>30.143</td>\n",
       "    </tr>\n",
       "    <tr>\n",
       "      <th>...</th>\n",
       "      <td>...</td>\n",
       "      <td>...</td>\n",
       "      <td>...</td>\n",
       "      <td>...</td>\n",
       "      <td>...</td>\n",
       "      <td>...</td>\n",
       "      <td>...</td>\n",
       "      <td>...</td>\n",
       "      <td>...</td>\n",
       "      <td>...</td>\n",
       "      <td>...</td>\n",
       "      <td>...</td>\n",
       "      <td>...</td>\n",
       "      <td>...</td>\n",
       "      <td>...</td>\n",
       "      <td>...</td>\n",
       "      <td>...</td>\n",
       "      <td>...</td>\n",
       "      <td>...</td>\n",
       "      <td>...</td>\n",
       "      <td>...</td>\n",
       "    </tr>\n",
       "    <tr>\n",
       "      <th>2235</th>\n",
       "      <td>10870</td>\n",
       "      <td>1967</td>\n",
       "      <td>Graduate</td>\n",
       "      <td>Couple</td>\n",
       "      <td>61223.0</td>\n",
       "      <td>0</td>\n",
       "      <td>1</td>\n",
       "      <td>2013-06-13</td>\n",
       "      <td>46</td>\n",
       "      <td>709</td>\n",
       "      <td>...</td>\n",
       "      <td>0</td>\n",
       "      <td>0</td>\n",
       "      <td>3</td>\n",
       "      <td>11</td>\n",
       "      <td>0</td>\n",
       "      <td>58</td>\n",
       "      <td>1</td>\n",
       "      <td>2</td>\n",
       "      <td>1341</td>\n",
       "      <td>83.812</td>\n",
       "    </tr>\n",
       "    <tr>\n",
       "      <th>2236</th>\n",
       "      <td>4001</td>\n",
       "      <td>1946</td>\n",
       "      <td>Postgraduate</td>\n",
       "      <td>Couple</td>\n",
       "      <td>64014.0</td>\n",
       "      <td>2</td>\n",
       "      <td>1</td>\n",
       "      <td>2014-06-10</td>\n",
       "      <td>56</td>\n",
       "      <td>406</td>\n",
       "      <td>...</td>\n",
       "      <td>0</td>\n",
       "      <td>0</td>\n",
       "      <td>3</td>\n",
       "      <td>11</td>\n",
       "      <td>0</td>\n",
       "      <td>79</td>\n",
       "      <td>3</td>\n",
       "      <td>4</td>\n",
       "      <td>444</td>\n",
       "      <td>29.600</td>\n",
       "    </tr>\n",
       "    <tr>\n",
       "      <th>2237</th>\n",
       "      <td>7270</td>\n",
       "      <td>1981</td>\n",
       "      <td>Graduate</td>\n",
       "      <td>Single</td>\n",
       "      <td>56981.0</td>\n",
       "      <td>0</td>\n",
       "      <td>0</td>\n",
       "      <td>2014-01-25</td>\n",
       "      <td>91</td>\n",
       "      <td>908</td>\n",
       "      <td>...</td>\n",
       "      <td>0</td>\n",
       "      <td>0</td>\n",
       "      <td>3</td>\n",
       "      <td>11</td>\n",
       "      <td>0</td>\n",
       "      <td>44</td>\n",
       "      <td>0</td>\n",
       "      <td>1</td>\n",
       "      <td>1241</td>\n",
       "      <td>68.944</td>\n",
       "    </tr>\n",
       "    <tr>\n",
       "      <th>2238</th>\n",
       "      <td>8235</td>\n",
       "      <td>1956</td>\n",
       "      <td>Postgraduate</td>\n",
       "      <td>Couple</td>\n",
       "      <td>69245.0</td>\n",
       "      <td>0</td>\n",
       "      <td>1</td>\n",
       "      <td>2014-01-24</td>\n",
       "      <td>8</td>\n",
       "      <td>428</td>\n",
       "      <td>...</td>\n",
       "      <td>0</td>\n",
       "      <td>0</td>\n",
       "      <td>3</td>\n",
       "      <td>11</td>\n",
       "      <td>0</td>\n",
       "      <td>69</td>\n",
       "      <td>1</td>\n",
       "      <td>2</td>\n",
       "      <td>843</td>\n",
       "      <td>40.143</td>\n",
       "    </tr>\n",
       "    <tr>\n",
       "      <th>2239</th>\n",
       "      <td>9405</td>\n",
       "      <td>1954</td>\n",
       "      <td>Postgraduate</td>\n",
       "      <td>Couple</td>\n",
       "      <td>52869.0</td>\n",
       "      <td>1</td>\n",
       "      <td>1</td>\n",
       "      <td>2012-10-15</td>\n",
       "      <td>40</td>\n",
       "      <td>84</td>\n",
       "      <td>...</td>\n",
       "      <td>0</td>\n",
       "      <td>0</td>\n",
       "      <td>3</td>\n",
       "      <td>11</td>\n",
       "      <td>1</td>\n",
       "      <td>71</td>\n",
       "      <td>2</td>\n",
       "      <td>3</td>\n",
       "      <td>172</td>\n",
       "      <td>21.500</td>\n",
       "    </tr>\n",
       "  </tbody>\n",
       "</table>\n",
       "<p>2230 rows × 34 columns</p>\n",
       "</div>"
      ],
      "text/plain": [
       "         ID  Year_Birth     Education Marital_Status   Income  Kidhome  \\\n",
       "0      5524        1957      Graduate         Single  58138.0        0   \n",
       "1      2174        1954      Graduate         Single  46344.0        1   \n",
       "2      4141        1965      Graduate         Couple  71613.0        0   \n",
       "3      6182        1984      Graduate         Couple  26646.0        1   \n",
       "4      5324        1981  Postgraduate         Couple  58293.0        1   \n",
       "...     ...         ...           ...            ...      ...      ...   \n",
       "2235  10870        1967      Graduate         Couple  61223.0        0   \n",
       "2236   4001        1946  Postgraduate         Couple  64014.0        2   \n",
       "2237   7270        1981      Graduate         Single  56981.0        0   \n",
       "2238   8235        1956  Postgraduate         Couple  69245.0        0   \n",
       "2239   9405        1954  Postgraduate         Couple  52869.0        1   \n",
       "\n",
       "      Teenhome Dt_Customer  Recency  MntWines  ...  AcceptedCmp2  Complain  \\\n",
       "0            0  2012-09-04       58       635  ...             0         0   \n",
       "1            1  2014-03-08       38        11  ...             0         0   \n",
       "2            0  2013-08-21       26       426  ...             0         0   \n",
       "3            0  2014-02-10       26        11  ...             0         0   \n",
       "4            0  2014-01-19       94       173  ...             0         0   \n",
       "...        ...         ...      ...       ...  ...           ...       ...   \n",
       "2235         1  2013-06-13       46       709  ...             0         0   \n",
       "2236         1  2014-06-10       56       406  ...             0         0   \n",
       "2237         0  2014-01-25       91       908  ...             0         0   \n",
       "2238         1  2014-01-24        8       428  ...             0         0   \n",
       "2239         1  2012-10-15       40        84  ...             0         0   \n",
       "\n",
       "      Z_CostContact  Z_Revenue  Response  Age  Children  Family_Size  \\\n",
       "0                 3         11         1   68         0            1   \n",
       "1                 3         11         0   71         2            3   \n",
       "2                 3         11         0   60         0            1   \n",
       "3                 3         11         0   41         1            2   \n",
       "4                 3         11         0   44         1            2   \n",
       "...             ...        ...       ...  ...       ...          ...   \n",
       "2235              3         11         0   58         1            2   \n",
       "2236              3         11         0   79         3            4   \n",
       "2237              3         11         0   44         0            1   \n",
       "2238              3         11         0   69         1            2   \n",
       "2239              3         11         1   71         2            3   \n",
       "\n",
       "      Total_Spent  Avg_purcharse  \n",
       "0            1617         73.500  \n",
       "1              27          6.750  \n",
       "2             776         38.800  \n",
       "3              53          8.833  \n",
       "4             422         30.143  \n",
       "...           ...            ...  \n",
       "2235         1341         83.812  \n",
       "2236          444         29.600  \n",
       "2237         1241         68.944  \n",
       "2238          843         40.143  \n",
       "2239          172         21.500  \n",
       "\n",
       "[2230 rows x 34 columns]"
      ]
     },
     "execution_count": 73,
     "metadata": {},
     "output_type": "execute_result"
    }
   ],
   "source": [
    "# Eliminación de seis filas erroneas\n",
    "values_to_drop_2 = df[(df['NumWebPurchases'] == 0) & (df['NumCatalogPurchases'] == 0) & (df['NumStorePurchases'] == 0)].index\n",
    "df.drop(index=values_to_drop_2, inplace=True)\n",
    "df"
   ]
  },
  {
   "cell_type": "markdown",
   "metadata": {},
   "source": [
    "#### D) *promotion* features"
   ]
  },
  {
   "cell_type": "markdown",
   "metadata": {},
   "source": [
    "##### \"NumDealsPurchases\", \"AcceptedCmp1\", \"AcceptedCmp2\", \"AcceptedCmp3\", \"AcceptedCmp4\", \"AcceptedCmp5\", \"Response\""
   ]
  },
  {
   "cell_type": "markdown",
   "metadata": {},
   "source": [
    "- NumDealsPurchases, compras realizadas con descuento u oferta  (posibles transformaciones logarítimicas en la fase de feature engineering)\n",
    "- Promoción aceptó la oferta en camapaña num_X  (0: NO , 1 : SI)\n",
    "- Response, aceptó la ultima oferta (0: NO , 1 : SI)\n",
    "- Sin accion"
   ]
  },
  {
   "cell_type": "code",
   "execution_count": 74,
   "metadata": {},
   "outputs": [
    {
     "data": {
      "text/plain": [
       "Response\n",
       "0    1898\n",
       "1     332\n",
       "Name: count, dtype: int64"
      ]
     },
     "execution_count": 74,
     "metadata": {},
     "output_type": "execute_result"
    }
   ],
   "source": [
    "df.Response.value_counts()"
   ]
  },
  {
   "cell_type": "code",
   "execution_count": 75,
   "metadata": {},
   "outputs": [
    {
     "data": {
      "image/png": "[encoded data removed]",
      "text/plain": [
       "<Figure size 2000x400 with 7 Axes>"
      ]
     },
     "metadata": {},
     "output_type": "display_data"
    }
   ],
   "source": [
    "promotion = [\"NumDealsPurchases\", \"AcceptedCmp1\", \"AcceptedCmp2\", \"AcceptedCmp3\", \"AcceptedCmp4\", \"AcceptedCmp5\", \"Response\"]\n",
    "\n",
    "fig, axes = plt.subplots(1, len(promotion), figsize=(20, 4))  # Una fila, tantas columnas como features\n",
    "\n",
    "for col, ax in zip(promotion, axes):\n",
    "    ax.hist(df[col], bins=50, edgecolor=\"black\")\n",
    "    ax.set_title(col)\n",
    "    ax.set_xlabel(\"Amount\")\n",
    "    ax.set_ylabel(\"Frequency\")\n",
    "\n",
    "plt.tight_layout()\n",
    "plt.show()"
   ]
  },
  {
   "cell_type": "code",
   "execution_count": 76,
   "metadata": {},
   "outputs": [
    {
     "data": {
      "text/html": [
       "<div>\n",
       "<style scoped>\n",
       "    .dataframe tbody tr th:only-of-type {\n",
       "        vertical-align: middle;\n",
       "    }\n",
       "\n",
       "    .dataframe tbody tr th {\n",
       "        vertical-align: top;\n",
       "    }\n",
       "\n",
       "    .dataframe thead th {\n",
       "        text-align: right;\n",
       "    }\n",
       "</style>\n",
       "<table border=\"1\" class=\"dataframe\">\n",
       "  <thead>\n",
       "    <tr style=\"text-align: right;\">\n",
       "      <th></th>\n",
       "      <th>NumDealsPurchases</th>\n",
       "      <th>AcceptedCmp1</th>\n",
       "      <th>AcceptedCmp2</th>\n",
       "      <th>AcceptedCmp3</th>\n",
       "      <th>AcceptedCmp4</th>\n",
       "      <th>AcceptedCmp5</th>\n",
       "      <th>Response</th>\n",
       "    </tr>\n",
       "  </thead>\n",
       "  <tbody>\n",
       "    <tr>\n",
       "      <th>count</th>\n",
       "      <td>2230.000000</td>\n",
       "      <td>2230.000000</td>\n",
       "      <td>2230.000000</td>\n",
       "      <td>2230.000000</td>\n",
       "      <td>2230.000000</td>\n",
       "      <td>2230.000000</td>\n",
       "      <td>2230.000000</td>\n",
       "    </tr>\n",
       "    <tr>\n",
       "      <th>mean</th>\n",
       "      <td>2.315695</td>\n",
       "      <td>0.064126</td>\n",
       "      <td>0.013453</td>\n",
       "      <td>0.073094</td>\n",
       "      <td>0.074888</td>\n",
       "      <td>0.072646</td>\n",
       "      <td>0.148879</td>\n",
       "    </tr>\n",
       "    <tr>\n",
       "      <th>std</th>\n",
       "      <td>1.894450</td>\n",
       "      <td>0.245031</td>\n",
       "      <td>0.115230</td>\n",
       "      <td>0.260349</td>\n",
       "      <td>0.263269</td>\n",
       "      <td>0.259612</td>\n",
       "      <td>0.356049</td>\n",
       "    </tr>\n",
       "    <tr>\n",
       "      <th>min</th>\n",
       "      <td>0.000000</td>\n",
       "      <td>0.000000</td>\n",
       "      <td>0.000000</td>\n",
       "      <td>0.000000</td>\n",
       "      <td>0.000000</td>\n",
       "      <td>0.000000</td>\n",
       "      <td>0.000000</td>\n",
       "    </tr>\n",
       "    <tr>\n",
       "      <th>25%</th>\n",
       "      <td>1.000000</td>\n",
       "      <td>0.000000</td>\n",
       "      <td>0.000000</td>\n",
       "      <td>0.000000</td>\n",
       "      <td>0.000000</td>\n",
       "      <td>0.000000</td>\n",
       "      <td>0.000000</td>\n",
       "    </tr>\n",
       "    <tr>\n",
       "      <th>50%</th>\n",
       "      <td>2.000000</td>\n",
       "      <td>0.000000</td>\n",
       "      <td>0.000000</td>\n",
       "      <td>0.000000</td>\n",
       "      <td>0.000000</td>\n",
       "      <td>0.000000</td>\n",
       "      <td>0.000000</td>\n",
       "    </tr>\n",
       "    <tr>\n",
       "      <th>75%</th>\n",
       "      <td>3.000000</td>\n",
       "      <td>0.000000</td>\n",
       "      <td>0.000000</td>\n",
       "      <td>0.000000</td>\n",
       "      <td>0.000000</td>\n",
       "      <td>0.000000</td>\n",
       "      <td>0.000000</td>\n",
       "    </tr>\n",
       "    <tr>\n",
       "      <th>max</th>\n",
       "      <td>15.000000</td>\n",
       "      <td>1.000000</td>\n",
       "      <td>1.000000</td>\n",
       "      <td>1.000000</td>\n",
       "      <td>1.000000</td>\n",
       "      <td>1.000000</td>\n",
       "      <td>1.000000</td>\n",
       "    </tr>\n",
       "  </tbody>\n",
       "</table>\n",
       "</div>"
      ],
      "text/plain": [
       "       NumDealsPurchases  AcceptedCmp1  AcceptedCmp2  AcceptedCmp3  \\\n",
       "count        2230.000000   2230.000000   2230.000000   2230.000000   \n",
       "mean            2.315695      0.064126      0.013453      0.073094   \n",
       "std             1.894450      0.245031      0.115230      0.260349   \n",
       "min             0.000000      0.000000      0.000000      0.000000   \n",
       "25%             1.000000      0.000000      0.000000      0.000000   \n",
       "50%             2.000000      0.000000      0.000000      0.000000   \n",
       "75%             3.000000      0.000000      0.000000      0.000000   \n",
       "max            15.000000      1.000000      1.000000      1.000000   \n",
       "\n",
       "       AcceptedCmp4  AcceptedCmp5     Response  \n",
       "count   2230.000000   2230.000000  2230.000000  \n",
       "mean       0.074888      0.072646     0.148879  \n",
       "std        0.263269      0.259612     0.356049  \n",
       "min        0.000000      0.000000     0.000000  \n",
       "25%        0.000000      0.000000     0.000000  \n",
       "50%        0.000000      0.000000     0.000000  \n",
       "75%        0.000000      0.000000     0.000000  \n",
       "max        1.000000      1.000000     1.000000  "
      ]
     },
     "execution_count": 76,
     "metadata": {},
     "output_type": "execute_result"
    }
   ],
   "source": [
    "df[promotion].describe()"
   ]
  },
  {
   "cell_type": "markdown",
   "metadata": {},
   "source": [
    "##### - ('Total_Campaigns_Accepted')"
   ]
  },
  {
   "cell_type": "code",
   "execution_count": 77,
   "metadata": {},
   "outputs": [
    {
     "data": {
      "text/plain": [
       "Total_Campaigns_Accepted\n",
       "0    1623\n",
       "1     369\n",
       "2     142\n",
       "3      50\n",
       "4      36\n",
       "5      10\n",
       "Name: count, dtype: int64"
      ]
     },
     "execution_count": 77,
     "metadata": {},
     "output_type": "execute_result"
    }
   ],
   "source": [
    "df[\"Total_Campaigns_Accepted\"] = df[\"AcceptedCmp1\"] + df[\"AcceptedCmp2\"] + df[\"AcceptedCmp3\"] + df[\"AcceptedCmp4\"] + df[\"AcceptedCmp5\"] + df[\"Response\"]\n",
    "df[\"Total_Campaigns_Accepted\"].value_counts()"
   ]
  },
  {
   "cell_type": "markdown",
   "metadata": {},
   "source": [
    "### 4.2. Dropping Columns, Renaming and Reordering Features"
   ]
  },
  {
   "cell_type": "code",
   "execution_count": 78,
   "metadata": {},
   "outputs": [
    {
     "name": "stdout",
     "output_type": "stream",
     "text": [
      "['Z_CostContact', 'Z_Revenue', 'ID', 'Year_Birth', 'Kidhome', 'Teenhome']\n"
     ]
    },
    {
     "data": {
      "text/html": [
       "<div>\n",
       "<style scoped>\n",
       "    .dataframe tbody tr th:only-of-type {\n",
       "        vertical-align: middle;\n",
       "    }\n",
       "\n",
       "    .dataframe tbody tr th {\n",
       "        vertical-align: top;\n",
       "    }\n",
       "\n",
       "    .dataframe thead th {\n",
       "        text-align: right;\n",
       "    }\n",
       "</style>\n",
       "<table border=\"1\" class=\"dataframe\">\n",
       "  <thead>\n",
       "    <tr style=\"text-align: right;\">\n",
       "      <th></th>\n",
       "      <th>Education</th>\n",
       "      <th>Marital_Status</th>\n",
       "      <th>Income</th>\n",
       "      <th>Dt_Customer</th>\n",
       "      <th>Recency</th>\n",
       "      <th>MntWines</th>\n",
       "      <th>MntFruits</th>\n",
       "      <th>MntMeatProducts</th>\n",
       "      <th>MntFishProducts</th>\n",
       "      <th>MntSweetProducts</th>\n",
       "      <th>...</th>\n",
       "      <th>AcceptedCmp1</th>\n",
       "      <th>AcceptedCmp2</th>\n",
       "      <th>Complain</th>\n",
       "      <th>Response</th>\n",
       "      <th>Age</th>\n",
       "      <th>Children</th>\n",
       "      <th>Family_Size</th>\n",
       "      <th>Total_Spent</th>\n",
       "      <th>Avg_purcharse</th>\n",
       "      <th>Total_Campaigns_Accepted</th>\n",
       "    </tr>\n",
       "  </thead>\n",
       "  <tbody>\n",
       "    <tr>\n",
       "      <th>0</th>\n",
       "      <td>Graduate</td>\n",
       "      <td>Single</td>\n",
       "      <td>58138.0</td>\n",
       "      <td>2012-09-04</td>\n",
       "      <td>58</td>\n",
       "      <td>635</td>\n",
       "      <td>88</td>\n",
       "      <td>546</td>\n",
       "      <td>172</td>\n",
       "      <td>88</td>\n",
       "      <td>...</td>\n",
       "      <td>0</td>\n",
       "      <td>0</td>\n",
       "      <td>0</td>\n",
       "      <td>1</td>\n",
       "      <td>68</td>\n",
       "      <td>0</td>\n",
       "      <td>1</td>\n",
       "      <td>1617</td>\n",
       "      <td>73.500</td>\n",
       "      <td>1</td>\n",
       "    </tr>\n",
       "    <tr>\n",
       "      <th>1</th>\n",
       "      <td>Graduate</td>\n",
       "      <td>Single</td>\n",
       "      <td>46344.0</td>\n",
       "      <td>2014-03-08</td>\n",
       "      <td>38</td>\n",
       "      <td>11</td>\n",
       "      <td>1</td>\n",
       "      <td>6</td>\n",
       "      <td>2</td>\n",
       "      <td>1</td>\n",
       "      <td>...</td>\n",
       "      <td>0</td>\n",
       "      <td>0</td>\n",
       "      <td>0</td>\n",
       "      <td>0</td>\n",
       "      <td>71</td>\n",
       "      <td>2</td>\n",
       "      <td>3</td>\n",
       "      <td>27</td>\n",
       "      <td>6.750</td>\n",
       "      <td>0</td>\n",
       "    </tr>\n",
       "    <tr>\n",
       "      <th>2</th>\n",
       "      <td>Graduate</td>\n",
       "      <td>Couple</td>\n",
       "      <td>71613.0</td>\n",
       "      <td>2013-08-21</td>\n",
       "      <td>26</td>\n",
       "      <td>426</td>\n",
       "      <td>49</td>\n",
       "      <td>127</td>\n",
       "      <td>111</td>\n",
       "      <td>21</td>\n",
       "      <td>...</td>\n",
       "      <td>0</td>\n",
       "      <td>0</td>\n",
       "      <td>0</td>\n",
       "      <td>0</td>\n",
       "      <td>60</td>\n",
       "      <td>0</td>\n",
       "      <td>1</td>\n",
       "      <td>776</td>\n",
       "      <td>38.800</td>\n",
       "      <td>0</td>\n",
       "    </tr>\n",
       "    <tr>\n",
       "      <th>3</th>\n",
       "      <td>Graduate</td>\n",
       "      <td>Couple</td>\n",
       "      <td>26646.0</td>\n",
       "      <td>2014-02-10</td>\n",
       "      <td>26</td>\n",
       "      <td>11</td>\n",
       "      <td>4</td>\n",
       "      <td>20</td>\n",
       "      <td>10</td>\n",
       "      <td>3</td>\n",
       "      <td>...</td>\n",
       "      <td>0</td>\n",
       "      <td>0</td>\n",
       "      <td>0</td>\n",
       "      <td>0</td>\n",
       "      <td>41</td>\n",
       "      <td>1</td>\n",
       "      <td>2</td>\n",
       "      <td>53</td>\n",
       "      <td>8.833</td>\n",
       "      <td>0</td>\n",
       "    </tr>\n",
       "    <tr>\n",
       "      <th>4</th>\n",
       "      <td>Postgraduate</td>\n",
       "      <td>Couple</td>\n",
       "      <td>58293.0</td>\n",
       "      <td>2014-01-19</td>\n",
       "      <td>94</td>\n",
       "      <td>173</td>\n",
       "      <td>43</td>\n",
       "      <td>118</td>\n",
       "      <td>46</td>\n",
       "      <td>27</td>\n",
       "      <td>...</td>\n",
       "      <td>0</td>\n",
       "      <td>0</td>\n",
       "      <td>0</td>\n",
       "      <td>0</td>\n",
       "      <td>44</td>\n",
       "      <td>1</td>\n",
       "      <td>2</td>\n",
       "      <td>422</td>\n",
       "      <td>30.143</td>\n",
       "      <td>0</td>\n",
       "    </tr>\n",
       "  </tbody>\n",
       "</table>\n",
       "<p>5 rows × 29 columns</p>\n",
       "</div>"
      ],
      "text/plain": [
       "      Education Marital_Status   Income Dt_Customer  Recency  MntWines  \\\n",
       "0      Graduate         Single  58138.0  2012-09-04       58       635   \n",
       "1      Graduate         Single  46344.0  2014-03-08       38        11   \n",
       "2      Graduate         Couple  71613.0  2013-08-21       26       426   \n",
       "3      Graduate         Couple  26646.0  2014-02-10       26        11   \n",
       "4  Postgraduate         Couple  58293.0  2014-01-19       94       173   \n",
       "\n",
       "   MntFruits  MntMeatProducts  MntFishProducts  MntSweetProducts  ...  \\\n",
       "0         88              546              172                88  ...   \n",
       "1          1                6                2                 1  ...   \n",
       "2         49              127              111                21  ...   \n",
       "3          4               20               10                 3  ...   \n",
       "4         43              118               46                27  ...   \n",
       "\n",
       "   AcceptedCmp1  AcceptedCmp2  Complain  Response  Age  Children  Family_Size  \\\n",
       "0             0             0         0         1   68         0            1   \n",
       "1             0             0         0         0   71         2            3   \n",
       "2             0             0         0         0   60         0            1   \n",
       "3             0             0         0         0   41         1            2   \n",
       "4             0             0         0         0   44         1            2   \n",
       "\n",
       "   Total_Spent  Avg_purcharse  Total_Campaigns_Accepted  \n",
       "0         1617         73.500                         1  \n",
       "1           27          6.750                         0  \n",
       "2          776         38.800                         0  \n",
       "3           53          8.833                         0  \n",
       "4          422         30.143                         0  \n",
       "\n",
       "[5 rows x 29 columns]"
      ]
     },
     "execution_count": 78,
     "metadata": {},
     "output_type": "execute_result"
    }
   ],
   "source": [
    "print(exclude)\n",
    "df_backup_V1 = df.copy()\n",
    "\n",
    "# Borrado de las columnas a excluir\n",
    "df = df.drop(columns=exclude, axis=1)\n",
    "df.head(5)"
   ]
  },
  {
   "cell_type": "code",
   "execution_count": 80,
   "metadata": {},
   "outputs": [
    {
     "data": {
      "text/html": [
       "<div>\n",
       "<style scoped>\n",
       "    .dataframe tbody tr th:only-of-type {\n",
       "        vertical-align: middle;\n",
       "    }\n",
       "\n",
       "    .dataframe tbody tr th {\n",
       "        vertical-align: top;\n",
       "    }\n",
       "\n",
       "    .dataframe thead th {\n",
       "        text-align: right;\n",
       "    }\n",
       "</style>\n",
       "<table border=\"1\" class=\"dataframe\">\n",
       "  <thead>\n",
       "    <tr style=\"text-align: right;\">\n",
       "      <th></th>\n",
       "      <th>Age</th>\n",
       "      <th>Education</th>\n",
       "      <th>Income</th>\n",
       "      <th>Status</th>\n",
       "      <th>Children</th>\n",
       "      <th>Fam_size</th>\n",
       "      <th>Client_date</th>\n",
       "      <th>Recency</th>\n",
       "      <th>Complain</th>\n",
       "      <th>Wines</th>\n",
       "      <th>...</th>\n",
       "      <th>Store</th>\n",
       "      <th>WebVisits</th>\n",
       "      <th>Deals</th>\n",
       "      <th>Cmp1</th>\n",
       "      <th>Cmp2</th>\n",
       "      <th>Cmp3</th>\n",
       "      <th>Cmp4</th>\n",
       "      <th>Cmp5</th>\n",
       "      <th>Response</th>\n",
       "      <th>Total_cmp</th>\n",
       "    </tr>\n",
       "  </thead>\n",
       "  <tbody>\n",
       "    <tr>\n",
       "      <th>0</th>\n",
       "      <td>68</td>\n",
       "      <td>Graduate</td>\n",
       "      <td>58138.0</td>\n",
       "      <td>Single</td>\n",
       "      <td>0</td>\n",
       "      <td>1</td>\n",
       "      <td>2012-09-04</td>\n",
       "      <td>58</td>\n",
       "      <td>0</td>\n",
       "      <td>635</td>\n",
       "      <td>...</td>\n",
       "      <td>4</td>\n",
       "      <td>7</td>\n",
       "      <td>3</td>\n",
       "      <td>0</td>\n",
       "      <td>0</td>\n",
       "      <td>0</td>\n",
       "      <td>0</td>\n",
       "      <td>0</td>\n",
       "      <td>1</td>\n",
       "      <td>1</td>\n",
       "    </tr>\n",
       "    <tr>\n",
       "      <th>1</th>\n",
       "      <td>71</td>\n",
       "      <td>Graduate</td>\n",
       "      <td>46344.0</td>\n",
       "      <td>Single</td>\n",
       "      <td>2</td>\n",
       "      <td>3</td>\n",
       "      <td>2014-03-08</td>\n",
       "      <td>38</td>\n",
       "      <td>0</td>\n",
       "      <td>11</td>\n",
       "      <td>...</td>\n",
       "      <td>2</td>\n",
       "      <td>5</td>\n",
       "      <td>2</td>\n",
       "      <td>0</td>\n",
       "      <td>0</td>\n",
       "      <td>0</td>\n",
       "      <td>0</td>\n",
       "      <td>0</td>\n",
       "      <td>0</td>\n",
       "      <td>0</td>\n",
       "    </tr>\n",
       "    <tr>\n",
       "      <th>2</th>\n",
       "      <td>60</td>\n",
       "      <td>Graduate</td>\n",
       "      <td>71613.0</td>\n",
       "      <td>Couple</td>\n",
       "      <td>0</td>\n",
       "      <td>1</td>\n",
       "      <td>2013-08-21</td>\n",
       "      <td>26</td>\n",
       "      <td>0</td>\n",
       "      <td>426</td>\n",
       "      <td>...</td>\n",
       "      <td>10</td>\n",
       "      <td>4</td>\n",
       "      <td>1</td>\n",
       "      <td>0</td>\n",
       "      <td>0</td>\n",
       "      <td>0</td>\n",
       "      <td>0</td>\n",
       "      <td>0</td>\n",
       "      <td>0</td>\n",
       "      <td>0</td>\n",
       "    </tr>\n",
       "    <tr>\n",
       "      <th>3</th>\n",
       "      <td>41</td>\n",
       "      <td>Graduate</td>\n",
       "      <td>26646.0</td>\n",
       "      <td>Couple</td>\n",
       "      <td>1</td>\n",
       "      <td>2</td>\n",
       "      <td>2014-02-10</td>\n",
       "      <td>26</td>\n",
       "      <td>0</td>\n",
       "      <td>11</td>\n",
       "      <td>...</td>\n",
       "      <td>4</td>\n",
       "      <td>6</td>\n",
       "      <td>2</td>\n",
       "      <td>0</td>\n",
       "      <td>0</td>\n",
       "      <td>0</td>\n",
       "      <td>0</td>\n",
       "      <td>0</td>\n",
       "      <td>0</td>\n",
       "      <td>0</td>\n",
       "    </tr>\n",
       "    <tr>\n",
       "      <th>4</th>\n",
       "      <td>44</td>\n",
       "      <td>Postgraduate</td>\n",
       "      <td>58293.0</td>\n",
       "      <td>Couple</td>\n",
       "      <td>1</td>\n",
       "      <td>2</td>\n",
       "      <td>2014-01-19</td>\n",
       "      <td>94</td>\n",
       "      <td>0</td>\n",
       "      <td>173</td>\n",
       "      <td>...</td>\n",
       "      <td>6</td>\n",
       "      <td>5</td>\n",
       "      <td>5</td>\n",
       "      <td>0</td>\n",
       "      <td>0</td>\n",
       "      <td>0</td>\n",
       "      <td>0</td>\n",
       "      <td>0</td>\n",
       "      <td>0</td>\n",
       "      <td>0</td>\n",
       "    </tr>\n",
       "  </tbody>\n",
       "</table>\n",
       "<p>5 rows × 29 columns</p>\n",
       "</div>"
      ],
      "text/plain": [
       "   Age     Education   Income  Status  Children  Fam_size Client_date  \\\n",
       "0   68      Graduate  58138.0  Single         0         1  2012-09-04   \n",
       "1   71      Graduate  46344.0  Single         2         3  2014-03-08   \n",
       "2   60      Graduate  71613.0  Couple         0         1  2013-08-21   \n",
       "3   41      Graduate  26646.0  Couple         1         2  2014-02-10   \n",
       "4   44  Postgraduate  58293.0  Couple         1         2  2014-01-19   \n",
       "\n",
       "   Recency  Complain  Wines  ...  Store  WebVisits  Deals  Cmp1  Cmp2  Cmp3  \\\n",
       "0       58         0    635  ...      4          7      3     0     0     0   \n",
       "1       38         0     11  ...      2          5      2     0     0     0   \n",
       "2       26         0    426  ...     10          4      1     0     0     0   \n",
       "3       26         0     11  ...      4          6      2     0     0     0   \n",
       "4       94         0    173  ...      6          5      5     0     0     0   \n",
       "\n",
       "   Cmp4  Cmp5  Response  Total_cmp  \n",
       "0     0     0         1          1  \n",
       "1     0     0         0          0  \n",
       "2     0     0         0          0  \n",
       "3     0     0         0          0  \n",
       "4     0     0         0          0  \n",
       "\n",
       "[5 rows x 29 columns]"
      ]
     },
     "execution_count": 80,
     "metadata": {},
     "output_type": "execute_result"
    }
   ],
   "source": [
    "people_dict = {\n",
    "    \"Age\": \"Age\",\n",
    "    \"Education\": \"Education\",\n",
    "    \"Income\": \"Income\",\n",
    "    \"Marital_Status\": \"Status\",\n",
    "    \"Children\": \"Children\",\n",
    "    \"Family_Size\": \"Fam_size\",\n",
    "    \"Dt_Customer\": \"Client_date\",\n",
    "    \"Recency\": \"Recency\",\n",
    "    \"Complain\": \"Complain\"\n",
    "}\n",
    "\n",
    "products_dict = {\n",
    "    \"MntWines\": \"Wines\",\n",
    "    \"MntFruits\": \"Fruits\",\n",
    "    \"MntMeatProducts\": \"Meat\",\n",
    "    \"MntFishProducts\": \"Fish\",\n",
    "    \"MntSweetProducts\": \"Sweets\",\n",
    "    \"MntGoldProds\": \"Gold\",\n",
    "    \"Total_Spent\": \"Total_spent\",\n",
    "    \"Avg_purcharse\": \"Avg_buy\"\n",
    "}\n",
    "\n",
    "place_dict = {\n",
    "    \"NumWebPurchases\": \"Web\",\n",
    "    \"NumCatalogPurchases\": \"Catalog\",\n",
    "    \"NumStorePurchases\": \"Store\",\n",
    "    \"NumWebVisitsMonth\": \"WebVisits\"\n",
    "}\n",
    "\n",
    "promotion_dict = {\n",
    "    \"NumDealsPurchases\": \"Deals\",\n",
    "    \"AcceptedCmp1\": \"Cmp1\",\n",
    "    \"AcceptedCmp2\": \"Cmp2\",\n",
    "    \"AcceptedCmp3\": \"Cmp3\",\n",
    "    \"AcceptedCmp4\": \"Cmp4\",\n",
    "    \"AcceptedCmp5\": \"Cmp5\",\n",
    "    \"Response\": \"Response\",\n",
    "    \"Total_Campaigns_Accepted\": \"Total_cmp\"\n",
    "}\n",
    "\n",
    "# Renombrar primero las columnas y luego reordenar\n",
    "df = df.rename(columns={**people_dict, **products_dict, **place_dict, **promotion_dict})\n",
    "\n",
    "# Extraer listas de nombres renombrados\n",
    "people = list(people_dict.values())\n",
    "products = list(products_dict.values())\n",
    "place = list(place_dict.values())\n",
    "promotion = list(promotion_dict.values())\n",
    "\n",
    "# Reordenar columnas según el orden deseado\n",
    "new_order = people + products + place + promotion\n",
    "\n",
    "# Aplicar el reordenamiento\n",
    "df = df[new_order]\n",
    "df.head()"
   ]
  },
  {
   "cell_type": "code",
   "execution_count": 81,
   "metadata": {},
   "outputs": [
    {
     "data": {
      "text/html": [
       "<div>\n",
       "<style scoped>\n",
       "    .dataframe tbody tr th:only-of-type {\n",
       "        vertical-align: middle;\n",
       "    }\n",
       "\n",
       "    .dataframe tbody tr th {\n",
       "        vertical-align: top;\n",
       "    }\n",
       "\n",
       "    .dataframe thead th {\n",
       "        text-align: right;\n",
       "    }\n",
       "</style>\n",
       "<table border=\"1\" class=\"dataframe\">\n",
       "  <thead>\n",
       "    <tr style=\"text-align: right;\">\n",
       "      <th></th>\n",
       "      <th>Age</th>\n",
       "      <th>Education</th>\n",
       "      <th>Income</th>\n",
       "      <th>Status</th>\n",
       "      <th>Children</th>\n",
       "      <th>Fam_size</th>\n",
       "      <th>Client_date</th>\n",
       "      <th>Recency</th>\n",
       "      <th>Complain</th>\n",
       "    </tr>\n",
       "  </thead>\n",
       "  <tbody>\n",
       "    <tr>\n",
       "      <th>0</th>\n",
       "      <td>68</td>\n",
       "      <td>Graduate</td>\n",
       "      <td>58138.0</td>\n",
       "      <td>Single</td>\n",
       "      <td>0</td>\n",
       "      <td>1</td>\n",
       "      <td>2012-09-04</td>\n",
       "      <td>58</td>\n",
       "      <td>0</td>\n",
       "    </tr>\n",
       "    <tr>\n",
       "      <th>1</th>\n",
       "      <td>71</td>\n",
       "      <td>Graduate</td>\n",
       "      <td>46344.0</td>\n",
       "      <td>Single</td>\n",
       "      <td>2</td>\n",
       "      <td>3</td>\n",
       "      <td>2014-03-08</td>\n",
       "      <td>38</td>\n",
       "      <td>0</td>\n",
       "    </tr>\n",
       "    <tr>\n",
       "      <th>2</th>\n",
       "      <td>60</td>\n",
       "      <td>Graduate</td>\n",
       "      <td>71613.0</td>\n",
       "      <td>Couple</td>\n",
       "      <td>0</td>\n",
       "      <td>1</td>\n",
       "      <td>2013-08-21</td>\n",
       "      <td>26</td>\n",
       "      <td>0</td>\n",
       "    </tr>\n",
       "  </tbody>\n",
       "</table>\n",
       "</div>"
      ],
      "text/plain": [
       "   Age Education   Income  Status  Children  Fam_size Client_date  Recency  \\\n",
       "0   68  Graduate  58138.0  Single         0         1  2012-09-04       58   \n",
       "1   71  Graduate  46344.0  Single         2         3  2014-03-08       38   \n",
       "2   60  Graduate  71613.0  Couple         0         1  2013-08-21       26   \n",
       "\n",
       "   Complain  \n",
       "0         0  \n",
       "1         0  \n",
       "2         0  "
      ]
     },
     "execution_count": 81,
     "metadata": {},
     "output_type": "execute_result"
    }
   ],
   "source": [
    "df[people].head(3)"
   ]
  },
  {
   "cell_type": "code",
   "execution_count": 82,
   "metadata": {},
   "outputs": [
    {
     "data": {
      "text/html": [
       "<div>\n",
       "<style scoped>\n",
       "    .dataframe tbody tr th:only-of-type {\n",
       "        vertical-align: middle;\n",
       "    }\n",
       "\n",
       "    .dataframe tbody tr th {\n",
       "        vertical-align: top;\n",
       "    }\n",
       "\n",
       "    .dataframe thead th {\n",
       "        text-align: right;\n",
       "    }\n",
       "</style>\n",
       "<table border=\"1\" class=\"dataframe\">\n",
       "  <thead>\n",
       "    <tr style=\"text-align: right;\">\n",
       "      <th></th>\n",
       "      <th>Wines</th>\n",
       "      <th>Fruits</th>\n",
       "      <th>Meat</th>\n",
       "      <th>Fish</th>\n",
       "      <th>Sweets</th>\n",
       "      <th>Gold</th>\n",
       "      <th>Total_spent</th>\n",
       "      <th>Avg_buy</th>\n",
       "    </tr>\n",
       "  </thead>\n",
       "  <tbody>\n",
       "    <tr>\n",
       "      <th>0</th>\n",
       "      <td>635</td>\n",
       "      <td>88</td>\n",
       "      <td>546</td>\n",
       "      <td>172</td>\n",
       "      <td>88</td>\n",
       "      <td>88</td>\n",
       "      <td>1617</td>\n",
       "      <td>73.50</td>\n",
       "    </tr>\n",
       "    <tr>\n",
       "      <th>1</th>\n",
       "      <td>11</td>\n",
       "      <td>1</td>\n",
       "      <td>6</td>\n",
       "      <td>2</td>\n",
       "      <td>1</td>\n",
       "      <td>6</td>\n",
       "      <td>27</td>\n",
       "      <td>6.75</td>\n",
       "    </tr>\n",
       "    <tr>\n",
       "      <th>2</th>\n",
       "      <td>426</td>\n",
       "      <td>49</td>\n",
       "      <td>127</td>\n",
       "      <td>111</td>\n",
       "      <td>21</td>\n",
       "      <td>42</td>\n",
       "      <td>776</td>\n",
       "      <td>38.80</td>\n",
       "    </tr>\n",
       "  </tbody>\n",
       "</table>\n",
       "</div>"
      ],
      "text/plain": [
       "   Wines  Fruits  Meat  Fish  Sweets  Gold  Total_spent  Avg_buy\n",
       "0    635      88   546   172      88    88         1617    73.50\n",
       "1     11       1     6     2       1     6           27     6.75\n",
       "2    426      49   127   111      21    42          776    38.80"
      ]
     },
     "execution_count": 82,
     "metadata": {},
     "output_type": "execute_result"
    }
   ],
   "source": [
    "df[products].head(3)"
   ]
  },
  {
   "cell_type": "code",
   "execution_count": 83,
   "metadata": {},
   "outputs": [
    {
     "data": {
      "text/html": [
       "<div>\n",
       "<style scoped>\n",
       "    .dataframe tbody tr th:only-of-type {\n",
       "        vertical-align: middle;\n",
       "    }\n",
       "\n",
       "    .dataframe tbody tr th {\n",
       "        vertical-align: top;\n",
       "    }\n",
       "\n",
       "    .dataframe thead th {\n",
       "        text-align: right;\n",
       "    }\n",
       "</style>\n",
       "<table border=\"1\" class=\"dataframe\">\n",
       "  <thead>\n",
       "    <tr style=\"text-align: right;\">\n",
       "      <th></th>\n",
       "      <th>Web</th>\n",
       "      <th>Catalog</th>\n",
       "      <th>Store</th>\n",
       "      <th>WebVisits</th>\n",
       "    </tr>\n",
       "  </thead>\n",
       "  <tbody>\n",
       "    <tr>\n",
       "      <th>0</th>\n",
       "      <td>8</td>\n",
       "      <td>10</td>\n",
       "      <td>4</td>\n",
       "      <td>7</td>\n",
       "    </tr>\n",
       "    <tr>\n",
       "      <th>1</th>\n",
       "      <td>1</td>\n",
       "      <td>1</td>\n",
       "      <td>2</td>\n",
       "      <td>5</td>\n",
       "    </tr>\n",
       "    <tr>\n",
       "      <th>2</th>\n",
       "      <td>8</td>\n",
       "      <td>2</td>\n",
       "      <td>10</td>\n",
       "      <td>4</td>\n",
       "    </tr>\n",
       "  </tbody>\n",
       "</table>\n",
       "</div>"
      ],
      "text/plain": [
       "   Web  Catalog  Store  WebVisits\n",
       "0    8       10      4          7\n",
       "1    1        1      2          5\n",
       "2    8        2     10          4"
      ]
     },
     "execution_count": 83,
     "metadata": {},
     "output_type": "execute_result"
    }
   ],
   "source": [
    "df[place].head(3)"
   ]
  },
  {
   "cell_type": "code",
   "execution_count": 84,
   "metadata": {},
   "outputs": [
    {
     "data": {
      "text/html": [
       "<div>\n",
       "<style scoped>\n",
       "    .dataframe tbody tr th:only-of-type {\n",
       "        vertical-align: middle;\n",
       "    }\n",
       "\n",
       "    .dataframe tbody tr th {\n",
       "        vertical-align: top;\n",
       "    }\n",
       "\n",
       "    .dataframe thead th {\n",
       "        text-align: right;\n",
       "    }\n",
       "</style>\n",
       "<table border=\"1\" class=\"dataframe\">\n",
       "  <thead>\n",
       "    <tr style=\"text-align: right;\">\n",
       "      <th></th>\n",
       "      <th>Deals</th>\n",
       "      <th>Cmp1</th>\n",
       "      <th>Cmp2</th>\n",
       "      <th>Cmp3</th>\n",
       "      <th>Cmp4</th>\n",
       "      <th>Cmp5</th>\n",
       "      <th>Response</th>\n",
       "      <th>Total_cmp</th>\n",
       "    </tr>\n",
       "  </thead>\n",
       "  <tbody>\n",
       "    <tr>\n",
       "      <th>0</th>\n",
       "      <td>3</td>\n",
       "      <td>0</td>\n",
       "      <td>0</td>\n",
       "      <td>0</td>\n",
       "      <td>0</td>\n",
       "      <td>0</td>\n",
       "      <td>1</td>\n",
       "      <td>1</td>\n",
       "    </tr>\n",
       "    <tr>\n",
       "      <th>1</th>\n",
       "      <td>2</td>\n",
       "      <td>0</td>\n",
       "      <td>0</td>\n",
       "      <td>0</td>\n",
       "      <td>0</td>\n",
       "      <td>0</td>\n",
       "      <td>0</td>\n",
       "      <td>0</td>\n",
       "    </tr>\n",
       "    <tr>\n",
       "      <th>2</th>\n",
       "      <td>1</td>\n",
       "      <td>0</td>\n",
       "      <td>0</td>\n",
       "      <td>0</td>\n",
       "      <td>0</td>\n",
       "      <td>0</td>\n",
       "      <td>0</td>\n",
       "      <td>0</td>\n",
       "    </tr>\n",
       "  </tbody>\n",
       "</table>\n",
       "</div>"
      ],
      "text/plain": [
       "   Deals  Cmp1  Cmp2  Cmp3  Cmp4  Cmp5  Response  Total_cmp\n",
       "0      3     0     0     0     0     0         1          1\n",
       "1      2     0     0     0     0     0         0          0\n",
       "2      1     0     0     0     0     0         0          0"
      ]
     },
     "execution_count": 84,
     "metadata": {},
     "output_type": "execute_result"
    }
   ],
   "source": [
    "df[promotion].head(3)"
   ]
  },
  {
   "cell_type": "code",
   "execution_count": 85,
   "metadata": {},
   "outputs": [
    {
     "name": "stdout",
     "output_type": "stream",
     "text": [
      "<class 'pandas.core.frame.DataFrame'>\n",
      "Index: 2230 entries, 0 to 2239\n",
      "Data columns (total 29 columns):\n",
      " #   Column       Non-Null Count  Dtype         \n",
      "---  ------       --------------  -----         \n",
      " 0   Age          2230 non-null   int64         \n",
      " 1   Education    2230 non-null   object        \n",
      " 2   Income       2230 non-null   float64       \n",
      " 3   Status       2230 non-null   object        \n",
      " 4   Children     2230 non-null   int64         \n",
      " 5   Fam_size     2230 non-null   int64         \n",
      " 6   Client_date  2230 non-null   datetime64[ns]\n",
      " 7   Recency      2230 non-null   int64         \n",
      " 8   Complain     2230 non-null   int64         \n",
      " 9   Wines        2230 non-null   int64         \n",
      " 10  Fruits       2230 non-null   int64         \n",
      " 11  Meat         2230 non-null   int64         \n",
      " 12  Fish         2230 non-null   int64         \n",
      " 13  Sweets       2230 non-null   int64         \n",
      " 14  Gold         2230 non-null   int64         \n",
      " 15  Total_spent  2230 non-null   int64         \n",
      " 16  Avg_buy      2230 non-null   float64       \n",
      " 17  Web          2230 non-null   int64         \n",
      " 18  Catalog      2230 non-null   int64         \n",
      " 19  Store        2230 non-null   int64         \n",
      " 20  WebVisits    2230 non-null   int64         \n",
      " 21  Deals        2230 non-null   int64         \n",
      " 22  Cmp1         2230 non-null   int64         \n",
      " 23  Cmp2         2230 non-null   int64         \n",
      " 24  Cmp3         2230 non-null   int64         \n",
      " 25  Cmp4         2230 non-null   int64         \n",
      " 26  Cmp5         2230 non-null   int64         \n",
      " 27  Response     2230 non-null   int64         \n",
      " 28  Total_cmp    2230 non-null   int64         \n",
      "dtypes: datetime64[ns](1), float64(2), int64(24), object(2)\n",
      "memory usage: 522.7+ KB\n"
     ]
    }
   ],
   "source": [
    "df.info()"
   ]
  },
  {
   "cell_type": "code",
   "execution_count": null,
   "metadata": {},
   "outputs": [],
   "source": []
  }
 ],
 "metadata": {
  "kernelspec": {
   "display_name": "Python 3",
   "language": "python",
   "name": "python3"
  },
  "language_info": {
   "codemirror_mode": {
    "name": "ipython",
    "version": 3
   },
   "file_extension": ".py",
   "mimetype": "text/x-python",
   "name": "python",
   "nbconvert_exporter": "python",
   "pygments_lexer": "ipython3",
   "version": "3.11.9"
  }
 },
 "nbformat": 4,
 "nbformat_minor": 2
}
